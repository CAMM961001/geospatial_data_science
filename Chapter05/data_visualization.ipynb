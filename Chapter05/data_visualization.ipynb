{
 "cells": [
  {
   "cell_type": "markdown",
   "metadata": {},
   "source": [
    "# Exploración visual de datos\n",
    "\n",
    "El análisis exploratorio de datos (**EDA**) es el proceso de realizar consultas inciales de los datos en un esfuerzo por descubrir patrones, probar hipótesis, resumir características importantes de los datos, e identificar potenciales _outliers_ problemáticos. Este proceso se conduce principalmente por la producción de estadísticos y exploración visual de los datos.\n",
    "\n",
    "La expansión espacial del EDA es conocida como análisis exploratorio de datos espaciales (**ESDA**), y es una etapa crítica en el _pipeline_ de la ciencia de datos espacial. Es una expansión en el sentido de que el enfoque de un EDA está en entender la correlación entre variables, mientras que ESDA se basa en entender la correlación de las variables con respecto a su ubicación en el espacio.\n",
    "\n",
    "El primero paso en ESDA es la **cartografía**, o el proceso de creación de mapas. La cartografía es en sí mismo un arte en un sentido en el que toma datos y los representa visualmente de modo que personas tanto técnicas como no-técnicas entiendan y encuentren sentido en los datos; y es una ciencia en un sentido en el que los mapas deben ser derivados de los datos y ser representativos de ellos.\n",
    "\n",
    "Cabe destacar que no es una práctica común en un EDA convencional, que típicamente se enfoca en las siguientes tareas:\n",
    "\n",
    "* Estadísticos básicos de los datos\n",
    "* Entender la distribución de los datos\n",
    "* Gestión de valores faltantes\n",
    "* Identificación de _outliers_\n",
    "* Entender la correlación entre variables\n",
    "\n",
    "Para ilustrarlo, se contrastan las diferencias de ambos enfoques en un ejemplo que utiliza datos de las listas de **Airbnb de Nueva York** en dos secciones:\n",
    "\n",
    "* [Análisis exploratorio de datos](#Análisis-exploratorio-de-datos)\n",
    "* [Análisis exploratorio de datos espaciales](#Análisis-exploratorio-de-datos-espaciales)\n",
    "\n",
    "Es importante mencionar que los datos son proporcionados por [Inside Airbnb](http://insideairbnb.com/get-the-data/), y se puede consultar la información de múltiples ciudades\n",
    "\n",
    "Carga de librerías"
   ]
  },
  {
   "cell_type": "code",
   "execution_count": 1,
   "metadata": {},
   "outputs": [],
   "source": [
    "import os\n",
    "os.environ['USE_PYGEOS'] = '0'\n",
    "\n",
    "import pysal\n",
    "import splot\n",
    "import pandas as pd\n",
    "import geopandas as gpd\n",
    "import matplotlib.pyplot as plt"
   ]
  },
  {
   "cell_type": "markdown",
   "metadata": {},
   "source": [
    "Ruta relativa a archivo de datos.\n",
    "\n",
    "Siempre que se carga un archivo de datos es necesario consultar su directorio de datos, o en caso de no contar con ello sería necesario construir uno para mayor entendimiento de los mismos. En el caso de los datos de _Inside Airbnb_ se cuenta con un directorio en la siguiente [liga](https://docs.google.com/spreadsheets/d/1iWCNJcSutYqpULSQHlNyGInUvHg2BoUGoNRIGa6Szc4/edit#gid=982310896)"
   ]
  },
  {
   "cell_type": "code",
   "execution_count": 2,
   "metadata": {
    "scrolled": true
   },
   "outputs": [
    {
     "name": "stdout",
     "output_type": "stream",
     "text": [
      "<class 'pandas.core.frame.DataFrame'>\n",
      "RangeIndex: 43566 entries, 0 to 43565\n",
      "Data columns (total 75 columns):\n",
      " #   Column                                        Non-Null Count  Dtype  \n",
      "---  ------                                        --------------  -----  \n",
      " 0   id                                            43566 non-null  int64  \n",
      " 1   listing_url                                   43566 non-null  object \n",
      " 2   scrape_id                                     43566 non-null  int64  \n",
      " 3   last_scraped                                  43566 non-null  object \n",
      " 4   source                                        43566 non-null  object \n",
      " 5   name                                          43566 non-null  object \n",
      " 6   description                                   42866 non-null  object \n",
      " 7   neighborhood_overview                         25201 non-null  object \n",
      " 8   picture_url                                   43566 non-null  object \n",
      " 9   host_id                                       43566 non-null  int64  \n",
      " 10  host_url                                      43566 non-null  object \n",
      " 11  host_name                                     43561 non-null  object \n",
      " 12  host_since                                    43561 non-null  object \n",
      " 13  host_location                                 34216 non-null  object \n",
      " 14  host_about                                    24081 non-null  object \n",
      " 15  host_response_time                            29590 non-null  object \n",
      " 16  host_response_rate                            29590 non-null  object \n",
      " 17  host_acceptance_rate                          30807 non-null  object \n",
      " 18  host_is_superhost                             28399 non-null  object \n",
      " 19  host_thumbnail_url                            43561 non-null  object \n",
      " 20  host_picture_url                              43561 non-null  object \n",
      " 21  host_neighbourhood                            34851 non-null  object \n",
      " 22  host_listings_count                           43561 non-null  float64\n",
      " 23  host_total_listings_count                     43561 non-null  float64\n",
      " 24  host_verifications                            43561 non-null  object \n",
      " 25  host_has_profile_pic                          43561 non-null  object \n",
      " 26  host_identity_verified                        43561 non-null  object \n",
      " 27  neighbourhood                                 25202 non-null  object \n",
      " 28  neighbourhood_cleansed                        43566 non-null  object \n",
      " 29  neighbourhood_group_cleansed                  43566 non-null  object \n",
      " 30  latitude                                      43566 non-null  float64\n",
      " 31  longitude                                     43566 non-null  float64\n",
      " 32  property_type                                 43566 non-null  object \n",
      " 33  room_type                                     43566 non-null  object \n",
      " 34  accommodates                                  43566 non-null  int64  \n",
      " 35  bathrooms                                     0 non-null      float64\n",
      " 36  bathrooms_text                                43507 non-null  object \n",
      " 37  bedrooms                                      25073 non-null  float64\n",
      " 38  beds                                          42765 non-null  float64\n",
      " 39  amenities                                     43566 non-null  object \n",
      " 40  price                                         43566 non-null  object \n",
      " 41  minimum_nights                                43566 non-null  int64  \n",
      " 42  maximum_nights                                43566 non-null  int64  \n",
      " 43  minimum_minimum_nights                        43559 non-null  float64\n",
      " 44  maximum_minimum_nights                        43559 non-null  float64\n",
      " 45  minimum_maximum_nights                        43559 non-null  float64\n",
      " 46  maximum_maximum_nights                        43559 non-null  float64\n",
      " 47  minimum_nights_avg_ntm                        43559 non-null  float64\n",
      " 48  maximum_nights_avg_ntm                        43559 non-null  float64\n",
      " 49  calendar_updated                              0 non-null      float64\n",
      " 50  has_availability                              43566 non-null  object \n",
      " 51  availability_30                               43566 non-null  int64  \n",
      " 52  availability_60                               43566 non-null  int64  \n",
      " 53  availability_90                               43566 non-null  int64  \n",
      " 54  availability_365                              43566 non-null  int64  \n",
      " 55  calendar_last_scraped                         43566 non-null  object \n",
      " 56  number_of_reviews                             43566 non-null  int64  \n",
      " 57  number_of_reviews_ltm                         43566 non-null  int64  \n",
      " 58  number_of_reviews_l30d                        43566 non-null  int64  \n",
      " 59  first_review                                  33070 non-null  object \n",
      " 60  last_review                                   33070 non-null  object \n",
      " 61  review_scores_rating                          33070 non-null  float64\n",
      " 62  review_scores_accuracy                        32642 non-null  float64\n",
      " 63  review_scores_cleanliness                     32652 non-null  float64\n",
      " 64  review_scores_checkin                         32638 non-null  float64\n",
      " 65  review_scores_communication                   32647 non-null  float64\n",
      " 66  review_scores_location                        32635 non-null  float64\n",
      " 67  review_scores_value                           32635 non-null  float64\n",
      " 68  license                                       0 non-null      float64\n",
      " 69  instant_bookable                              43566 non-null  object \n",
      " 70  calculated_host_listings_count                43566 non-null  int64  \n",
      " 71  calculated_host_listings_count_entire_homes   43566 non-null  int64  \n",
      " 72  calculated_host_listings_count_private_rooms  43566 non-null  int64  \n",
      " 73  calculated_host_listings_count_shared_rooms   43566 non-null  int64  \n",
      " 74  reviews_per_month                             33070 non-null  float64\n",
      "dtypes: float64(23), int64(17), object(35)\n",
      "memory usage: 24.9+ MB\n"
     ]
    }
   ],
   "source": [
    "ROOT = os.path.dirname(os.getcwd())\n",
    "data_path = os.path.join(ROOT, 'data', 'Data pt1')\n",
    "\n",
    "# Reading in the data - REMINDER: You'll need to download this data yourself from InsideAirbnb\n",
    "listings = pd.read_csv(\n",
    "    os.path.join(data_path, 'listings.csv.gz')\n",
    "    ,compression='gzip')\n",
    "\n",
    "# Información general\n",
    "listings.info()"
   ]
  },
  {
   "cell_type": "markdown",
   "metadata": {},
   "source": [
    "Para efectos de estas notas, el siguiente paso sería hacer un subconjunto de los datos de modo que queden únicamente algunas variables de interés."
   ]
  },
  {
   "cell_type": "code",
   "execution_count": 3,
   "metadata": {},
   "outputs": [
    {
     "data": {
      "text/html": [
       "<div>\n",
       "<style scoped>\n",
       "    .dataframe tbody tr th:only-of-type {\n",
       "        vertical-align: middle;\n",
       "    }\n",
       "\n",
       "    .dataframe tbody tr th {\n",
       "        vertical-align: top;\n",
       "    }\n",
       "\n",
       "    .dataframe thead th {\n",
       "        text-align: right;\n",
       "    }\n",
       "</style>\n",
       "<table border=\"1\" class=\"dataframe\">\n",
       "  <thead>\n",
       "    <tr style=\"text-align: right;\">\n",
       "      <th></th>\n",
       "      <th>id</th>\n",
       "      <th>property_type</th>\n",
       "      <th>neighbourhood_cleansed</th>\n",
       "      <th>neighbourhood_group_cleansed</th>\n",
       "      <th>beds</th>\n",
       "      <th>bathrooms</th>\n",
       "      <th>price</th>\n",
       "      <th>latitude</th>\n",
       "      <th>longitude</th>\n",
       "    </tr>\n",
       "  </thead>\n",
       "  <tbody>\n",
       "    <tr>\n",
       "      <th>0</th>\n",
       "      <td>2595</td>\n",
       "      <td>Entire rental unit</td>\n",
       "      <td>Midtown</td>\n",
       "      <td>Manhattan</td>\n",
       "      <td>1.0</td>\n",
       "      <td>NaN</td>\n",
       "      <td>$240.00</td>\n",
       "      <td>40.753560</td>\n",
       "      <td>-73.985590</td>\n",
       "    </tr>\n",
       "    <tr>\n",
       "      <th>1</th>\n",
       "      <td>5121</td>\n",
       "      <td>Private room in rental unit</td>\n",
       "      <td>Bedford-Stuyvesant</td>\n",
       "      <td>Brooklyn</td>\n",
       "      <td>1.0</td>\n",
       "      <td>NaN</td>\n",
       "      <td>$60.00</td>\n",
       "      <td>40.685350</td>\n",
       "      <td>-73.955120</td>\n",
       "    </tr>\n",
       "    <tr>\n",
       "      <th>2</th>\n",
       "      <td>14991</td>\n",
       "      <td>Private room in rental unit</td>\n",
       "      <td>Lower East Side</td>\n",
       "      <td>Manhattan</td>\n",
       "      <td>1.0</td>\n",
       "      <td>NaN</td>\n",
       "      <td>$120.00</td>\n",
       "      <td>40.722070</td>\n",
       "      <td>-73.989760</td>\n",
       "    </tr>\n",
       "    <tr>\n",
       "      <th>3</th>\n",
       "      <td>5136</td>\n",
       "      <td>Entire rental unit</td>\n",
       "      <td>Sunset Park</td>\n",
       "      <td>Brooklyn</td>\n",
       "      <td>2.0</td>\n",
       "      <td>NaN</td>\n",
       "      <td>$276.00</td>\n",
       "      <td>40.662650</td>\n",
       "      <td>-73.994540</td>\n",
       "    </tr>\n",
       "    <tr>\n",
       "      <th>4</th>\n",
       "      <td>15341</td>\n",
       "      <td>Entire condo</td>\n",
       "      <td>Lower East Side</td>\n",
       "      <td>Manhattan</td>\n",
       "      <td>2.0</td>\n",
       "      <td>NaN</td>\n",
       "      <td>$315.00</td>\n",
       "      <td>40.721359</td>\n",
       "      <td>-73.993668</td>\n",
       "    </tr>\n",
       "  </tbody>\n",
       "</table>\n",
       "</div>"
      ],
      "text/plain": [
       "      id                property_type neighbourhood_cleansed  \\\n",
       "0   2595           Entire rental unit                Midtown   \n",
       "1   5121  Private room in rental unit     Bedford-Stuyvesant   \n",
       "2  14991  Private room in rental unit        Lower East Side   \n",
       "3   5136           Entire rental unit            Sunset Park   \n",
       "4  15341                 Entire condo        Lower East Side   \n",
       "\n",
       "  neighbourhood_group_cleansed  beds  bathrooms    price   latitude  longitude  \n",
       "0                    Manhattan   1.0        NaN  $240.00  40.753560 -73.985590  \n",
       "1                     Brooklyn   1.0        NaN   $60.00  40.685350 -73.955120  \n",
       "2                    Manhattan   1.0        NaN  $120.00  40.722070 -73.989760  \n",
       "3                     Brooklyn   2.0        NaN  $276.00  40.662650 -73.994540  \n",
       "4                    Manhattan   2.0        NaN  $315.00  40.721359 -73.993668  "
      ]
     },
     "execution_count": 3,
     "metadata": {},
     "output_type": "execute_result"
    }
   ],
   "source": [
    "# Aplciación de filtros\n",
    "listings_sub = listings.filter(\n",
    "    items=[\n",
    "        'id', 'property_type', 'neighbourhood_cleansed'\n",
    "        ,'neighbourhood_group_cleansed', 'beds', 'bathrooms'\n",
    "        ,'price', 'latitude', 'longitude'])\n",
    "\n",
    "# Vista previa\n",
    "listings_sub.head()"
   ]
  },
  {
   "cell_type": "markdown",
   "metadata": {},
   "source": [
    "# Análisis exploratorio de datos\n",
    "\n",
    "Lo primero que se debe hacer es una inspección general de los datos, su tamaño, valores faltantes."
   ]
  },
  {
   "cell_type": "code",
   "execution_count": 4,
   "metadata": {},
   "outputs": [
    {
     "name": "stdout",
     "output_type": "stream",
     "text": [
      "<class 'pandas.core.frame.DataFrame'>\n",
      "RangeIndex: 43566 entries, 0 to 43565\n",
      "Data columns (total 9 columns):\n",
      " #   Column                        Non-Null Count  Dtype  \n",
      "---  ------                        --------------  -----  \n",
      " 0   id                            43566 non-null  int64  \n",
      " 1   property_type                 43566 non-null  object \n",
      " 2   neighbourhood_cleansed        43566 non-null  object \n",
      " 3   neighbourhood_group_cleansed  43566 non-null  object \n",
      " 4   beds                          42765 non-null  float64\n",
      " 5   bathrooms                     0 non-null      float64\n",
      " 6   price                         43566 non-null  object \n",
      " 7   latitude                      43566 non-null  float64\n",
      " 8   longitude                     43566 non-null  float64\n",
      "dtypes: float64(4), int64(1), object(4)\n",
      "memory usage: 3.0+ MB\n"
     ]
    }
   ],
   "source": [
    "listings_sub.info()"
   ]
  },
  {
   "cell_type": "markdown",
   "metadata": {},
   "source": [
    "Lo primero que resalata es que los baños no tienen ningún registro, por lo que no hace ningún tipo de sentido conservarlos para el análisis. Adicionalmente, dado que en la variable `beds` no hay una manera clara de imputar los valores faltantes, se ignora la variable para este análisis.\n",
    "\n",
    "Por otro lado, no es deseable tener una variable numérica con algún tipo de formato visual que la convierta en una cadena de caracteres, como es el caso de `price`, por ende, se formatea esta columna."
   ]
  },
  {
   "cell_type": "code",
   "execution_count": 5,
   "metadata": {},
   "outputs": [
    {
     "data": {
      "text/html": [
       "<div>\n",
       "<style scoped>\n",
       "    .dataframe tbody tr th:only-of-type {\n",
       "        vertical-align: middle;\n",
       "    }\n",
       "\n",
       "    .dataframe tbody tr th {\n",
       "        vertical-align: top;\n",
       "    }\n",
       "\n",
       "    .dataframe thead th {\n",
       "        text-align: right;\n",
       "    }\n",
       "</style>\n",
       "<table border=\"1\" class=\"dataframe\">\n",
       "  <thead>\n",
       "    <tr style=\"text-align: right;\">\n",
       "      <th></th>\n",
       "      <th>id</th>\n",
       "      <th>property_type</th>\n",
       "      <th>neighbourhood_cleansed</th>\n",
       "      <th>neighbourhood_group_cleansed</th>\n",
       "      <th>price</th>\n",
       "      <th>latitude</th>\n",
       "      <th>longitude</th>\n",
       "    </tr>\n",
       "  </thead>\n",
       "  <tbody>\n",
       "    <tr>\n",
       "      <th>0</th>\n",
       "      <td>2595</td>\n",
       "      <td>Entire rental unit</td>\n",
       "      <td>Midtown</td>\n",
       "      <td>Manhattan</td>\n",
       "      <td>240.0</td>\n",
       "      <td>40.753560</td>\n",
       "      <td>-73.985590</td>\n",
       "    </tr>\n",
       "    <tr>\n",
       "      <th>1</th>\n",
       "      <td>5121</td>\n",
       "      <td>Private room in rental unit</td>\n",
       "      <td>Bedford-Stuyvesant</td>\n",
       "      <td>Brooklyn</td>\n",
       "      <td>60.0</td>\n",
       "      <td>40.685350</td>\n",
       "      <td>-73.955120</td>\n",
       "    </tr>\n",
       "    <tr>\n",
       "      <th>2</th>\n",
       "      <td>14991</td>\n",
       "      <td>Private room in rental unit</td>\n",
       "      <td>Lower East Side</td>\n",
       "      <td>Manhattan</td>\n",
       "      <td>120.0</td>\n",
       "      <td>40.722070</td>\n",
       "      <td>-73.989760</td>\n",
       "    </tr>\n",
       "    <tr>\n",
       "      <th>3</th>\n",
       "      <td>5136</td>\n",
       "      <td>Entire rental unit</td>\n",
       "      <td>Sunset Park</td>\n",
       "      <td>Brooklyn</td>\n",
       "      <td>276.0</td>\n",
       "      <td>40.662650</td>\n",
       "      <td>-73.994540</td>\n",
       "    </tr>\n",
       "    <tr>\n",
       "      <th>4</th>\n",
       "      <td>15341</td>\n",
       "      <td>Entire condo</td>\n",
       "      <td>Lower East Side</td>\n",
       "      <td>Manhattan</td>\n",
       "      <td>315.0</td>\n",
       "      <td>40.721359</td>\n",
       "      <td>-73.993668</td>\n",
       "    </tr>\n",
       "  </tbody>\n",
       "</table>\n",
       "</div>"
      ],
      "text/plain": [
       "      id                property_type neighbourhood_cleansed  \\\n",
       "0   2595           Entire rental unit                Midtown   \n",
       "1   5121  Private room in rental unit     Bedford-Stuyvesant   \n",
       "2  14991  Private room in rental unit        Lower East Side   \n",
       "3   5136           Entire rental unit            Sunset Park   \n",
       "4  15341                 Entire condo        Lower East Side   \n",
       "\n",
       "  neighbourhood_group_cleansed  price   latitude  longitude  \n",
       "0                    Manhattan  240.0  40.753560 -73.985590  \n",
       "1                     Brooklyn   60.0  40.685350 -73.955120  \n",
       "2                    Manhattan  120.0  40.722070 -73.989760  \n",
       "3                     Brooklyn  276.0  40.662650 -73.994540  \n",
       "4                    Manhattan  315.0  40.721359 -73.993668  "
      ]
     },
     "execution_count": 5,
     "metadata": {},
     "output_type": "execute_result"
    }
   ],
   "source": [
    "# Secuencia de transformaciones\n",
    "listings_sub = (\n",
    "    listings_sub\n",
    "    .drop(columns=['beds', 'bathrooms'])\n",
    "    .assign(\n",
    "        price = lambda _df: _df.price.replace(to_replace='[$,]', value='', regex=True).astype(float))\n",
    ")\n",
    "\n",
    "# Vista previa\n",
    "listings_sub.head()"
   ]
  },
  {
   "cell_type": "markdown",
   "metadata": {},
   "source": [
    "Se observa la distribución general de la variable `precio`"
   ]
  },
  {
   "cell_type": "code",
   "execution_count": 6,
   "metadata": {},
   "outputs": [
    {
     "data": {
      "text/plain": [
       "count    43566.000000\n",
       "mean       225.216109\n",
       "std        818.738268\n",
       "min          0.000000\n",
       "25%         80.000000\n",
       "50%        136.000000\n",
       "75%        228.000000\n",
       "max      90120.000000\n",
       "Name: price, dtype: float64"
      ]
     },
     "execution_count": 6,
     "metadata": {},
     "output_type": "execute_result"
    }
   ],
   "source": [
    "# Estadísticos descriptivos\n",
    "listings_sub['price'].describe()"
   ]
  },
  {
   "cell_type": "markdown",
   "metadata": {},
   "source": [
    "De los estadísticos básicos se observa que es una distribución con un fuerte sesgo a la derecha presentando lo que posiblemente es una cola larga. Para confirmarlo, se puede realizar un histograma de la variable."
   ]
  },
  {
   "cell_type": "code",
   "execution_count": 7,
   "metadata": {},
   "outputs": [
    {
     "data": {
      "image/png": "[encoded data removed]",
      "text/plain": [
       "<Figure size 800x500 with 1 Axes>"
      ]
     },
     "metadata": {},
     "output_type": "display_data"
    }
   ],
   "source": [
    "# Especificaciones de figura\n",
    "fig, ax = plt.subplots(figsize=(8,5))\n",
    "\n",
    "# Elementos de visualización\n",
    "ax.hist(\n",
    "    x=listings_sub.price\n",
    "    ,bins=25\n",
    "    ,density=False\n",
    "    ,alpha=0.6)\n",
    "\n",
    "# Anotaciones y estilo\n",
    "ax.set(\n",
    "    title='Distribución de precios'\n",
    "    ,xlabel='Precio'\n",
    "    ,ylabel='Cuenta')\n",
    "\n",
    "plt.show()"
   ]
  },
  {
   "cell_type": "markdown",
   "metadata": {},
   "source": [
    "Existe una fuerte anomalía en los datos, por lo que para efectos de un análisis más generalizado, se filtrar aquellos registros con precios menores a $\\$9K$ y se repite el histograma"
   ]
  },
  {
   "cell_type": "code",
   "execution_count": 8,
   "metadata": {},
   "outputs": [
    {
     "data": {
      "image/png": "[encoded data removed]",
      "text/plain": [
       "<Figure size 800x500 with 1 Axes>"
      ]
     },
     "metadata": {},
     "output_type": "display_data"
    }
   ],
   "source": [
    "# Filtrado de datos\n",
    "listings_sub = listings_sub.query(\"price <= 9_000\")\n",
    "\n",
    "# Especificaciones de figura\n",
    "fig, ax = plt.subplots(figsize=(8,5))\n",
    "\n",
    "# Elementos de visualización\n",
    "ax.hist(\n",
    "    x=listings_sub.price\n",
    "    ,bins=30\n",
    "    ,density=False\n",
    "    ,alpha=0.6)\n",
    "\n",
    "# Anotaciones y estilo\n",
    "ax.set(\n",
    "    title='Distribución de precios'\n",
    "    ,xlabel='Precio'\n",
    "    ,ylabel='Cuenta')\n",
    "\n",
    "plt.show()"
   ]
  },
  {
   "cell_type": "markdown",
   "metadata": {},
   "source": [
    "El histograma anterior refleja mejor la distribución de los datos en cuanto al precio se refiere. Si bien se podría continuar con el EDA, no es el propóstio principal en este momento ya que lo que se busca es contrastar las diferencias entre EDA y ESDA.\n",
    "\n",
    "# Análisis exploratorio de datos espaciales"
   ]
  },
  {
   "cell_type": "code",
   "execution_count": null,
   "metadata": {},
   "outputs": [],
   "source": [
    "# Convert the pandas dataframe to a geopandas dataframe\n",
    "listings_sub_gpd = gpd.GeoDataFrame(listings_sub, geometry=gpd.points_from_xy(listings_sub.longitude, listings_sub.latitude, crs=4326))"
   ]
  },
  {
   "cell_type": "code",
   "execution_count": null,
   "metadata": {},
   "outputs": [],
   "source": [
    "import geoplot.crs as gcrs\n",
    "import geoplot as gplt\n",
    "ax = gplt.webmap(listings_sub_gpd,projection=gcrs.WebMercator())\n",
    "gplt.pointplot(listings_sub_gpd, ax=ax)"
   ]
  },
  {
   "cell_type": "code",
   "execution_count": null,
   "metadata": {},
   "outputs": [],
   "source": [
    "# Reading in the New York Census Tracts\n",
    "NY_tracts_path = \"https://www2.census.gov/geo/tiger/TIGER2021/TRACT/tl_2021_36_tract.zip\"\n",
    "NY_Tracts = gpd.read_file(NY_tracts_path)\n",
    "NY_Tracts = NY_Tracts.to_crs(4326)\n",
    "\n",
    "# Subsetting the census tracts to those in the New York CBSA\n",
    "cbsa_path = 'https://www2.census.gov/geo/tiger/TIGER2021/CBSA/tl_2021_us_cbsa.zip'\n",
    "cbsas = gpd.read_file(cbsa_path)\n",
    "NY_cbsa = cbsas[cbsas['GEOID']=='35620']"
   ]
  },
  {
   "cell_type": "code",
   "execution_count": null,
   "metadata": {},
   "outputs": [],
   "source": [
    "# Borough Boundaries\n",
    "Boroughs = gpd.read_file(data_path + r\"NYC Boroughs\\nybb_22a\\nybb.shp\")\n",
    "Boroughs = Boroughs.to_crs(4326)\n",
    "Boroughs.plot()"
   ]
  },
  {
   "cell_type": "code",
   "execution_count": null,
   "metadata": {},
   "outputs": [],
   "source": [
    "# Creating a heatmap of Airbnb locations\n",
    "\n",
    "# Creating a heatmap raster from the points\n",
    "ax = gplt.kdeplot(\n",
    "    listings_sub_gpd,shade=True, cmap='Reds',\n",
    "    clip=Boroughs.geometry,\n",
    "    projection=gcrs.WebMercator())\n",
    "\n",
    "# Plotting the heatmap on top of the boroughs for context\n",
    "gplt.polyplot(Boroughs, ax=ax, zorder=1)"
   ]
  },
  {
   "cell_type": "code",
   "execution_count": null,
   "metadata": {},
   "outputs": [],
   "source": [
    "# Reading in the New York Census Tracts\n",
    "NY_tracts_path = \"https://www2.census.gov/geo/tiger/TIGER2021/TRACT/tl_2021_36_tract.zip\"\n",
    "NY_Tracts = gpd.read_file(NY_tracts_path)\n",
    "NY_Tracts = NY_Tracts.to_crs(4326)\n",
    "\n",
    "# Subsetting the census tracts to those in the New York CBSA\n",
    "cbsa_path = 'https://www2.census.gov/geo/tiger/TIGER2021/CBSA/tl_2021_us_cbsa.zip'\n",
    "cbsas = gpd.read_file(cbsa_path)\n",
    "NY_cbsa = cbsas[cbsas['GEOID']=='35620']\n",
    "\n",
    "mask = NY_Tracts.intersects(NY_cbsa.loc[620,'geometry'])\n",
    "NY_Tracts_subset = NY_Tracts.loc[mask]\n",
    "\n",
    "# Aggregating the airbnb locations to the NY census tracts\n",
    "NY_Tracts_sj = gpd.sjoin(NY_Tracts_subset, listings_sub_gpd, how='left', op='contains')\n",
    "NY_Tracts_sj = NY_Tracts_sj[['GEOID','price','geometry']]\n",
    "NY_Tracts_Agg = NY_Tracts_sj.dissolve(by='GEOID', aggfunc='mean')\n",
    "\n",
    "NY_Tracts_Agg"
   ]
  },
  {
   "cell_type": "code",
   "execution_count": null,
   "metadata": {},
   "outputs": [],
   "source": [
    "gplt.choropleth(NY_Tracts_Agg, hue=\"price\", cmap=\"Greens\", figsize=(60,30), legend=True)"
   ]
  },
  {
   "cell_type": "code",
   "execution_count": null,
   "metadata": {},
   "outputs": [],
   "source": [
    "import geoviews\n",
    "geoviews.extension(\"bokeh\")\n",
    "\n",
    "choropleth = geoviews.Polygons(data=NY_Tracts_Agg, vdims=[\"price\",\"GEOID\"])\n",
    "\n",
    "choropleth.opts(height=600, width=900, title=\"NYC Airbnb Price\",\n",
    "                tools=[\"hover\"], cmap=\"Greens\", colorbar=True, colorbar_position=\"bottom\")"
   ]
  },
  {
   "cell_type": "code",
   "execution_count": null,
   "metadata": {},
   "outputs": [],
   "source": [
    "import statistics\n",
    "\n",
    "# Calculating the mean and standard deviation\n",
    "mean_price = statistics.mean(NY_Tracts_Agg['price'].dropna())\n",
    "stdev = statistics.stdev(NY_Tracts_Agg['price'].dropna())\n",
    "\n",
    "print(\"The mean Airbnb price is: % s \" % (round(mean_price, 2)))\n",
    "print(\"The standard deviation of Airbnb prices is: % s \" % (round(stdev, 2)))\n",
    "\n",
    "# Droping records that are more than 1 standard deviation from the mean\n",
    "NY_Tracts_Agg_filtered = NY_Tracts_Agg[NY_Tracts_Agg['price'] < mean_price+stdev]\n",
    "\n",
    "choropleth = geoviews.Polygons(data=NY_Tracts_Agg_filtered, vdims=[\"price\",\"GEOID\"])\n",
    "\n",
    "choropleth.opts(height=600, width=900, title=\"NYC Airbnb Price\",\n",
    "                tools=[\"hover\"], cmap=\"Greens\", colorbar=True, colorbar_position=\"bottom\")"
   ]
  },
  {
   "cell_type": "code",
   "execution_count": null,
   "metadata": {},
   "outputs": [],
   "source": []
  }
 ],
 "metadata": {
  "kernelspec": {
   "display_name": "Python 3 (ipykernel)",
   "language": "python",
   "name": "python3"
  },
  "language_info": {
   "codemirror_mode": {
    "name": "ipython",
    "version": 3
   },
   "file_extension": ".py",
   "mimetype": "text/x-python",
   "name": "python",
   "nbconvert_exporter": "python",
   "pygments_lexer": "ipython3",
   "version": "3.10.12"
  }
 },
 "nbformat": 4,
 "nbformat_minor": 4
}
