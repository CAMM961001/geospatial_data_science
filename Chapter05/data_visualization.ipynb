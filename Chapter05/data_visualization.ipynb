{
 "cells": [
  {
   "cell_type": "markdown",
   "metadata": {},
   "source": [
    "# Exploración visual de datos\n",
    "\n",
    "El análisis exploratorio de datos (**EDA**) es el proceso de realizar consultas inciales de los datos en un esfuerzo por descubrir patrones, probar hipótesis, resumir características importantes de los datos, e identificar potenciales _outliers_ problemáticos. Este proceso se conduce principalmente por la producción de estadísticos y exploración visual de los datos.\n",
    "\n",
    "La expansión espacial del EDA es conocida como análisis exploratorio de datos espaciales (**ESDA**), y es una etapa crítica en el _pipeline_ de la ciencia de datos espacial. Es una expansión en el sentido de que el enfoque de un EDA está en entender la correlación entre variables, mientras que ESDA se basa en entender la correlación de las variables con respecto a su ubicación en el espacio.\n",
    "\n",
    "El primero paso en ESDA es la **cartografía**, o el proceso de creación de mapas. La cartografía es en sí mismo un arte en un sentido en el que toma datos y los representa visualmente de modo que personas tanto técnicas como no-técnicas entiendan y encuentren sentido en los datos; y es una ciencia en un sentido en el que los mapas deben ser derivados de los datos y ser representativos de ellos.\n",
    "\n",
    "Cabe destacar que no es una práctica común en un EDA convencional, que típicamente se enfoca en las siguientes tareas:\n",
    "\n",
    "* Estadísticos básicos de los datos\n",
    "* Entender la distribución de los datos\n",
    "* Gestión de valores faltantes\n",
    "* Identificación de _outliers_\n",
    "* Entender la correlación entre variables\n",
    "\n",
    "Para ilustrarlo, se contrastan las diferencias de ambos enfoques en un ejemplo que utiliza datos de las listas de **Airbnb de Nueva York** en dos secciones:\n",
    "\n",
    "* [Análisis exploratorio de datos](#Análisis-exploratorio-de-datos)\n",
    "* [Análisis exploratorio de datos espaciales](#Análisis-exploratorio-de-datos-espaciales)\n",
    "\n",
    "Es importante mencionar que los datos son proporcionados por [Inside Airbnb](http://insideairbnb.com/get-the-data/), y se puede consultar la información de múltiples ciudades\n",
    "\n",
    "Carga de librerías"
   ]
  },
  {
   "cell_type": "code",
   "execution_count": 1,
   "metadata": {},
   "outputs": [],
   "source": [
    "import os\n",
    "os.environ['USE_PYGEOS'] = '0'\n",
    "\n",
    "import pysal\n",
    "import splot\n",
    "import pandas as pd\n",
    "import geopandas as gpd\n",
    "import matplotlib.pyplot as plt"
   ]
  },
  {
   "cell_type": "markdown",
   "metadata": {},
   "source": [
    "Ruta relativa a archivo de datos.\n",
    "\n",
    "Siempre que se carga un archivo de datos es necesario consultar su directorio de datos, o en caso de no contar con ello sería necesario construir uno para mayor entendimiento de los mismos. En el caso de los datos de _Inside Airbnb_ se cuenta con un directorio en la siguiente [liga](https://docs.google.com/spreadsheets/d/1iWCNJcSutYqpULSQHlNyGInUvHg2BoUGoNRIGa6Szc4/edit#gid=982310896))6)"
   ]
  },
  {
   "cell_type": "code",
   "execution_count": 2,
   "metadata": {
    "scrolled": true
   },
   "outputs": [
    {
     "name": "stdout",
     "output_type": "stream",
     "text": [
      "<class 'pandas.core.frame.DataFrame'>\n",
      "RangeIndex: 43566 entries, 0 to 43565\n",
      "Data columns (total 75 columns):\n",
      " #   Column                                        Non-Null Count  Dtype  \n",
      "---  ------                                        --------------  -----  \n",
      " 0   id                                            43566 non-null  int64  \n",
      " 1   listing_url                                   43566 non-null  object \n",
      " 2   scrape_id                                     43566 non-null  int64  \n",
      " 3   last_scraped                                  43566 non-null  object \n",
      " 4   source                                        43566 non-null  object \n",
      " 5   name                                          43566 non-null  object \n",
      " 6   description                                   42866 non-null  object \n",
      " 7   neighborhood_overview                         25201 non-null  object \n",
      " 8   picture_url                                   43566 non-null  object \n",
      " 9   host_id                                       43566 non-null  int64  \n",
      " 10  host_url                                      43566 non-null  object \n",
      " 11  host_name                                     43561 non-null  object \n",
      " 12  host_since                                    43561 non-null  object \n",
      " 13  host_location                                 34216 non-null  object \n",
      " 14  host_about                                    24081 non-null  object \n",
      " 15  host_response_time                            29590 non-null  object \n",
      " 16  host_response_rate                            29590 non-null  object \n",
      " 17  host_acceptance_rate                          30807 non-null  object \n",
      " 18  host_is_superhost                             28399 non-null  object \n",
      " 19  host_thumbnail_url                            43561 non-null  object \n",
      " 20  host_picture_url                              43561 non-null  object \n",
      " 21  host_neighbourhood                            34851 non-null  object \n",
      " 22  host_listings_count                           43561 non-null  float64\n",
      " 23  host_total_listings_count                     43561 non-null  float64\n",
      " 24  host_verifications                            43561 non-null  object \n",
      " 25  host_has_profile_pic                          43561 non-null  object \n",
      " 26  host_identity_verified                        43561 non-null  object \n",
      " 27  neighbourhood                                 25202 non-null  object \n",
      " 28  neighbourhood_cleansed                        43566 non-null  object \n",
      " 29  neighbourhood_group_cleansed                  43566 non-null  object \n",
      " 30  latitude                                      43566 non-null  float64\n",
      " 31  longitude                                     43566 non-null  float64\n",
      " 32  property_type                                 43566 non-null  object \n",
      " 33  room_type                                     43566 non-null  object \n",
      " 34  accommodates                                  43566 non-null  int64  \n",
      " 35  bathrooms                                     0 non-null      float64\n",
      " 36  bathrooms_text                                43507 non-null  object \n",
      " 37  bedrooms                                      25073 non-null  float64\n",
      " 38  beds                                          42765 non-null  float64\n",
      " 39  amenities                                     43566 non-null  object \n",
      " 40  price                                         43566 non-null  object \n",
      " 41  minimum_nights                                43566 non-null  int64  \n",
      " 42  maximum_nights                                43566 non-null  int64  \n",
      " 43  minimum_minimum_nights                        43559 non-null  float64\n",
      " 44  maximum_minimum_nights                        43559 non-null  float64\n",
      " 45  minimum_maximum_nights                        43559 non-null  float64\n",
      " 46  maximum_maximum_nights                        43559 non-null  float64\n",
      " 47  minimum_nights_avg_ntm                        43559 non-null  float64\n",
      " 48  maximum_nights_avg_ntm                        43559 non-null  float64\n",
      " 49  calendar_updated                              0 non-null      float64\n",
      " 50  has_availability                              43566 non-null  object \n",
      " 51  availability_30                               43566 non-null  int64  \n",
      " 52  availability_60                               43566 non-null  int64  \n",
      " 53  availability_90                               43566 non-null  int64  \n",
      " 54  availability_365                              43566 non-null  int64  \n",
      " 55  calendar_last_scraped                         43566 non-null  object \n",
      " 56  number_of_reviews                             43566 non-null  int64  \n",
      " 57  number_of_reviews_ltm                         43566 non-null  int64  \n",
      " 58  number_of_reviews_l30d                        43566 non-null  int64  \n",
      " 59  first_review                                  33070 non-null  object \n",
      " 60  last_review                                   33070 non-null  object \n",
      " 61  review_scores_rating                          33070 non-null  float64\n",
      " 62  review_scores_accuracy                        32642 non-null  float64\n",
      " 63  review_scores_cleanliness                     32652 non-null  float64\n",
      " 64  review_scores_checkin                         32638 non-null  float64\n",
      " 65  review_scores_communication                   32647 non-null  float64\n",
      " 66  review_scores_location                        32635 non-null  float64\n",
      " 67  review_scores_value                           32635 non-null  float64\n",
      " 68  license                                       0 non-null      float64\n",
      " 69  instant_bookable                              43566 non-null  object \n",
      " 70  calculated_host_listings_count                43566 non-null  int64  \n",
      " 71  calculated_host_listings_count_entire_homes   43566 non-null  int64  \n",
      " 72  calculated_host_listings_count_private_rooms  43566 non-null  int64  \n",
      " 73  calculated_host_listings_count_shared_rooms   43566 non-null  int64  \n",
      " 74  reviews_per_month                             33070 non-null  float64\n",
      "dtypes: float64(23), int64(17), object(35)\n",
      "memory usage: 24.9+ MB\n"
     ]
    }
   ],
   "source": [
    "ROOT = os.path.dirname(os.getcwd())\n",
    "data_path = os.path.join(ROOT, 'data', 'Data pt1')\n",
    "\n",
    "# Reading in the data - REMINDER: You'll need to download this data yourself from InsideAirbnb\n",
    "listings = pd.read_csv(\n",
    "    os.path.join(data_path, 'listings.csv.gz')\n",
    "    ,compression='gzip')\n",
    "\n",
    "# Información general\n",
    "listings.info()"
   ]
  },
  {
   "cell_type": "markdown",
   "metadata": {},
   "source": [
    "# Análisis exploratorio de datos"
   ]
  },
  {
   "cell_type": "code",
   "execution_count": null,
   "metadata": {},
   "outputs": [],
   "source": [
    "# Subsetting the data\n",
    "\n",
    "listings_sub = listings[['id','property_type','neighbourhood_cleansed', 'neighbourhood_group_cleansed','beds','bathrooms', 'price','latitude','longitude']]\n",
    "\n",
    "listings_sub.head()"
   ]
  },
  {
   "cell_type": "code",
   "execution_count": null,
   "metadata": {},
   "outputs": [],
   "source": [
    "listings_sub.info()"
   ]
  },
  {
   "cell_type": "code",
   "execution_count": null,
   "metadata": {},
   "outputs": [],
   "source": [
    "# Cleaning the data\n",
    "listings_sub.drop(columns=['beds','bathrooms'], inplace=True)\n",
    "listings_sub[\"price\"] = listings_sub[\"price\"].replace(\"[$,]\", \"\", regex=True).astype(float)"
   ]
  },
  {
   "cell_type": "code",
   "execution_count": null,
   "metadata": {},
   "outputs": [],
   "source": [
    "listings_sub"
   ]
  },
  {
   "cell_type": "code",
   "execution_count": null,
   "metadata": {},
   "outputs": [],
   "source": [
    "listings_sub['price'].describe()"
   ]
  },
  {
   "cell_type": "code",
   "execution_count": null,
   "metadata": {},
   "outputs": [],
   "source": [
    "%matplotlib inline\n",
    "plt.hist(listings_sub['price'], bins=25, density=True, alpha=0.6)\n",
    "plt.show()"
   ]
  },
  {
   "cell_type": "code",
   "execution_count": null,
   "metadata": {},
   "outputs": [],
   "source": [
    "import seaborn as sns\n",
    "sns.distplot(listings_sub['price'], kde=True)\n",
    "plt.show()"
   ]
  },
  {
   "cell_type": "markdown",
   "metadata": {},
   "source": [
    "# Análisis exploratorio de datos espaciales"
   ]
  },
  {
   "cell_type": "code",
   "execution_count": null,
   "metadata": {},
   "outputs": [],
   "source": [
    "# Convert the pandas dataframe to a geopandas dataframe\n",
    "listings_sub_gpd = gpd.GeoDataFrame(listings_sub, geometry=gpd.points_from_xy(listings_sub.longitude, listings_sub.latitude, crs=4326))"
   ]
  },
  {
   "cell_type": "code",
   "execution_count": null,
   "metadata": {},
   "outputs": [],
   "source": [
    "import geoplot.crs as gcrs\n",
    "import geoplot as gplt\n",
    "ax = gplt.webmap(listings_sub_gpd,projection=gcrs.WebMercator())\n",
    "gplt.pointplot(listings_sub_gpd, ax=ax)"
   ]
  },
  {
   "cell_type": "code",
   "execution_count": null,
   "metadata": {},
   "outputs": [],
   "source": [
    "# Reading in the New York Census Tracts\n",
    "NY_tracts_path = \"https://www2.census.gov/geo/tiger/TIGER2021/TRACT/tl_2021_36_tract.zip\"\n",
    "NY_Tracts = gpd.read_file(NY_tracts_path)\n",
    "NY_Tracts = NY_Tracts.to_crs(4326)\n",
    "\n",
    "# Subsetting the census tracts to those in the New York CBSA\n",
    "cbsa_path = 'https://www2.census.gov/geo/tiger/TIGER2021/CBSA/tl_2021_us_cbsa.zip'\n",
    "cbsas = gpd.read_file(cbsa_path)\n",
    "NY_cbsa = cbsas[cbsas['GEOID']=='35620']"
   ]
  },
  {
   "cell_type": "code",
   "execution_count": null,
   "metadata": {},
   "outputs": [],
   "source": [
    "# Borough Boundaries\n",
    "Boroughs = gpd.read_file(data_path + r\"NYC Boroughs\\nybb_22a\\nybb.shp\")\n",
    "Boroughs = Boroughs.to_crs(4326)\n",
    "Boroughs.plot()"
   ]
  },
  {
   "cell_type": "code",
   "execution_count": null,
   "metadata": {},
   "outputs": [],
   "source": [
    "# Creating a heatmap of Airbnb locations\n",
    "\n",
    "# Creating a heatmap raster from the points\n",
    "ax = gplt.kdeplot(\n",
    "    listings_sub_gpd,shade=True, cmap='Reds',\n",
    "    clip=Boroughs.geometry,\n",
    "    projection=gcrs.WebMercator())\n",
    "\n",
    "# Plotting the heatmap on top of the boroughs for context\n",
    "gplt.polyplot(Boroughs, ax=ax, zorder=1)"
   ]
  },
  {
   "cell_type": "code",
   "execution_count": null,
   "metadata": {},
   "outputs": [],
   "source": [
    "# Reading in the New York Census Tracts\n",
    "NY_tracts_path = \"https://www2.census.gov/geo/tiger/TIGER2021/TRACT/tl_2021_36_tract.zip\"\n",
    "NY_Tracts = gpd.read_file(NY_tracts_path)\n",
    "NY_Tracts = NY_Tracts.to_crs(4326)\n",
    "\n",
    "# Subsetting the census tracts to those in the New York CBSA\n",
    "cbsa_path = 'https://www2.census.gov/geo/tiger/TIGER2021/CBSA/tl_2021_us_cbsa.zip'\n",
    "cbsas = gpd.read_file(cbsa_path)\n",
    "NY_cbsa = cbsas[cbsas['GEOID']=='35620']\n",
    "\n",
    "mask = NY_Tracts.intersects(NY_cbsa.loc[620,'geometry'])\n",
    "NY_Tracts_subset = NY_Tracts.loc[mask]\n",
    "\n",
    "# Aggregating the airbnb locations to the NY census tracts\n",
    "NY_Tracts_sj = gpd.sjoin(NY_Tracts_subset, listings_sub_gpd, how='left', op='contains')\n",
    "NY_Tracts_sj = NY_Tracts_sj[['GEOID','price','geometry']]\n",
    "NY_Tracts_Agg = NY_Tracts_sj.dissolve(by='GEOID', aggfunc='mean')\n",
    "\n",
    "NY_Tracts_Agg"
   ]
  },
  {
   "cell_type": "code",
   "execution_count": null,
   "metadata": {},
   "outputs": [],
   "source": [
    "gplt.choropleth(NY_Tracts_Agg, hue=\"price\", cmap=\"Greens\", figsize=(60,30), legend=True)"
   ]
  },
  {
   "cell_type": "code",
   "execution_count": null,
   "metadata": {},
   "outputs": [],
   "source": [
    "import geoviews\n",
    "geoviews.extension(\"bokeh\")\n",
    "\n",
    "choropleth = geoviews.Polygons(data=NY_Tracts_Agg, vdims=[\"price\",\"GEOID\"])\n",
    "\n",
    "choropleth.opts(height=600, width=900, title=\"NYC Airbnb Price\",\n",
    "                tools=[\"hover\"], cmap=\"Greens\", colorbar=True, colorbar_position=\"bottom\")"
   ]
  },
  {
   "cell_type": "code",
   "execution_count": null,
   "metadata": {},
   "outputs": [],
   "source": [
    "import statistics\n",
    "\n",
    "# Calculating the mean and standard deviation\n",
    "mean_price = statistics.mean(NY_Tracts_Agg['price'].dropna())\n",
    "stdev = statistics.stdev(NY_Tracts_Agg['price'].dropna())\n",
    "\n",
    "print(\"The mean Airbnb price is: % s \" % (round(mean_price, 2)))\n",
    "print(\"The standard deviation of Airbnb prices is: % s \" % (round(stdev, 2)))\n",
    "\n",
    "# Droping records that are more than 1 standard deviation from the mean\n",
    "NY_Tracts_Agg_filtered = NY_Tracts_Agg[NY_Tracts_Agg['price'] < mean_price+stdev]\n",
    "\n",
    "choropleth = geoviews.Polygons(data=NY_Tracts_Agg_filtered, vdims=[\"price\",\"GEOID\"])\n",
    "\n",
    "choropleth.opts(height=600, width=900, title=\"NYC Airbnb Price\",\n",
    "                tools=[\"hover\"], cmap=\"Greens\", colorbar=True, colorbar_position=\"bottom\")"
   ]
  },
  {
   "cell_type": "code",
   "execution_count": null,
   "metadata": {},
   "outputs": [],
   "source": []
  }
 ],
 "metadata": {
  "kernelspec": {
   "display_name": "Python 3 (ipykernel)",
   "language": "python",
   "name": "python3"
  },
  "language_info": {
   "codemirror_mode": {
    "name": "ipython",
    "version": 3
   },
   "file_extension": ".py",
   "mimetype": "text/x-python",
   "name": "python",
   "nbconvert_exporter": "python",
   "pygments_lexer": "ipython3",
   "version": "3.10.12"
  }
 },
 "nbformat": 4,
 "nbformat_minor": 4
}
