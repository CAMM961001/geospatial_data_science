{
 "cells": [
  {
   "cell_type": "markdown",
   "id": "8241e1eb-e28f-4b17-be8e-20df7d07a30d",
   "metadata": {},
   "source": [
    "# Leaflet\n",
    "\n",
    "Leaflet es una librería de código abierto desarrollada en _JavaScript_ para mapas interactivos, la librería `ipyleaflet` es un _wrapper_ para Python.\n",
    "\n",
    "Carga de librerías"
   ]
  },
  {
   "cell_type": "code",
   "execution_count": 1,
   "id": "64faff9a-c753-4c25-b261-fe6a7f738515",
   "metadata": {},
   "outputs": [],
   "source": [
    "import os\n",
    "import yaml\n",
    "os.environ['USE_PYGEOS'] = '0'\n",
    "\n",
    "import pandas as pd\n",
    "import geopandas as gpd\n",
    "\n",
    "from geopandas.tools import geocode\n",
    "from ipyleaflet import Map, basemaps, Marker, basemap_to_tiles"
   ]
  },
  {
   "cell_type": "markdown",
   "id": "600823d2-9373-4c43-8574-9c66f310c751",
   "metadata": {},
   "source": [
    "Ruta relativa a archivos de datos y carga de credenciales de API's"
   ]
  },
  {
   "cell_type": "code",
   "execution_count": 2,
   "id": "0ccd6274",
   "metadata": {},
   "outputs": [],
   "source": [
    "# Rutas de archivo\n",
    "ROOT = os.path.dirname(os.getcwd())\n",
    "data_path = os.path.join(ROOT,'data','Data pt1')\n",
    "\n",
    "# Credenciales de api\n",
    "with open(os.path.join(ROOT, 'credentials.yml'), 'r') as file:\n",
    "    credentials = yaml.safe_load(file)"
   ]
  },
  {
   "cell_type": "markdown",
   "id": "5e844bf2-5738-4f74-bc13-bb15c01833f4",
   "metadata": {},
   "source": [
    "Nuevamente se utilizarán datos que no están georeferenciados y que, en cambio, cuentan con una dirección de las ubicaciones de interés. Por esta razón, es necesario hacer un _geocoding_ de las direcciones.\n",
    "\n",
    "**Paso 1**: Carga de datos originales"
   ]
  },
  {
   "cell_type": "code",
   "execution_count": 3,
   "id": "35e6dd07-e67a-4a51-a6fe-59a1b11a8fcf",
   "metadata": {},
   "outputs": [
    {
     "data": {
      "text/html": [
       "<div>\n",
       "<style scoped>\n",
       "    .dataframe tbody tr th:only-of-type {\n",
       "        vertical-align: middle;\n",
       "    }\n",
       "\n",
       "    .dataframe tbody tr th {\n",
       "        vertical-align: top;\n",
       "    }\n",
       "\n",
       "    .dataframe thead th {\n",
       "        text-align: right;\n",
       "    }\n",
       "</style>\n",
       "<table border=\"1\" class=\"dataframe\">\n",
       "  <thead>\n",
       "    <tr style=\"text-align: right;\">\n",
       "      <th></th>\n",
       "      <th>Attraction</th>\n",
       "      <th>Address</th>\n",
       "    </tr>\n",
       "  </thead>\n",
       "  <tbody>\n",
       "    <tr>\n",
       "      <th>0</th>\n",
       "      <td>Washington Monument</td>\n",
       "      <td>2 15th St NW, Washington, DC 20024</td>\n",
       "    </tr>\n",
       "    <tr>\n",
       "      <th>1</th>\n",
       "      <td>Smithsonian National Air and Space Museum</td>\n",
       "      <td>600 Independence Ave SW, Washington, DC 20560</td>\n",
       "    </tr>\n",
       "    <tr>\n",
       "      <th>2</th>\n",
       "      <td>White House</td>\n",
       "      <td>1600 Pennsylvania Avenue NW, Washington, DC 20500</td>\n",
       "    </tr>\n",
       "  </tbody>\n",
       "</table>\n",
       "</div>"
      ],
      "text/plain": [
       "                                  Attraction  \\\n",
       "0                        Washington Monument   \n",
       "1  Smithsonian National Air and Space Museum   \n",
       "2                                White House   \n",
       "\n",
       "                                             Address  \n",
       "0                 2 15th St NW, Washington, DC 20024  \n",
       "1      600 Independence Ave SW, Washington, DC 20560  \n",
       "2  1600 Pennsylvania Avenue NW, Washington, DC 20500  "
      ]
     },
     "execution_count": 3,
     "metadata": {},
     "output_type": "execute_result"
    }
   ],
   "source": [
    "dc_attractions = pd.read_csv(os.path.join(data_path,'DC_Attractions.csv'))\n",
    "dc_attractions"
   ]
  },
  {
   "cell_type": "markdown",
   "id": "9cd0324b-6fe8-47a0-87f6-c1e44e046b40",
   "metadata": {},
   "source": [
    "**Paso 2**: _Geocoding_ usando la API de **MapQuest**"
   ]
  },
  {
   "cell_type": "code",
   "execution_count": 4,
   "id": "83bec859",
   "metadata": {},
   "outputs": [
    {
     "data": {
      "text/html": [
       "<div>\n",
       "<style scoped>\n",
       "    .dataframe tbody tr th:only-of-type {\n",
       "        vertical-align: middle;\n",
       "    }\n",
       "\n",
       "    .dataframe tbody tr th {\n",
       "        vertical-align: top;\n",
       "    }\n",
       "\n",
       "    .dataframe thead th {\n",
       "        text-align: right;\n",
       "    }\n",
       "</style>\n",
       "<table border=\"1\" class=\"dataframe\">\n",
       "  <thead>\n",
       "    <tr style=\"text-align: right;\">\n",
       "      <th></th>\n",
       "      <th>geometry</th>\n",
       "      <th>address</th>\n",
       "      <th>Attraction</th>\n",
       "    </tr>\n",
       "  </thead>\n",
       "  <tbody>\n",
       "    <tr>\n",
       "      <th>0</th>\n",
       "      <td>POINT (-77.03296 38.88898)</td>\n",
       "      <td>2 15th St NW, Washington Mall, Washington, Dis...</td>\n",
       "      <td>Washington Monument</td>\n",
       "    </tr>\n",
       "    <tr>\n",
       "      <th>1</th>\n",
       "      <td>POINT (-77.02007 38.88756)</td>\n",
       "      <td>600 Independence Ave SW, Southwest Employment ...</td>\n",
       "      <td>Smithsonian National Air and Space Museum</td>\n",
       "    </tr>\n",
       "    <tr>\n",
       "      <th>2</th>\n",
       "      <td>POINT (-77.03655 38.89795)</td>\n",
       "      <td>1600 Pennsylvania Ave NW, Washington Mall, Was...</td>\n",
       "      <td>White House</td>\n",
       "    </tr>\n",
       "  </tbody>\n",
       "</table>\n",
       "</div>"
      ],
      "text/plain": [
       "                     geometry  \\\n",
       "0  POINT (-77.03296 38.88898)   \n",
       "1  POINT (-77.02007 38.88756)   \n",
       "2  POINT (-77.03655 38.89795)   \n",
       "\n",
       "                                             address  \\\n",
       "0  2 15th St NW, Washington Mall, Washington, Dis...   \n",
       "1  600 Independence Ave SW, Southwest Employment ...   \n",
       "2  1600 Pennsylvania Ave NW, Washington Mall, Was...   \n",
       "\n",
       "                                  Attraction  \n",
       "0                        Washington Monument  \n",
       "1  Smithsonian National Air and Space Museum  \n",
       "2                                White House  "
      ]
     },
     "execution_count": 4,
     "metadata": {},
     "output_type": "execute_result"
    }
   ],
   "source": [
    "# Georeferenciación de direcciones \n",
    "dc_attractions_gpd = geocode(\n",
    "    strings=dc_attractions.Address\n",
    "    ,provider='mapquest'\n",
    "    ,timeout=4\n",
    "    ,api_key=credentials['map_quest'])\n",
    "\n",
    "# Unión de dataframes\n",
    "dc_attractions_gpd = dc_attractions_gpd.join(dc_attractions[['Attraction']])\n",
    "\n",
    "dc_attractions_gpd"
   ]
  },
  {
   "cell_type": "markdown",
   "id": "5dfecfd1-12e3-417c-8de7-e0e4d59827c4",
   "metadata": {},
   "source": [
    "**Paso 3**: Extracción de coordenadas como variables independientes"
   ]
  },
  {
   "cell_type": "code",
   "execution_count": 5,
   "id": "8c6049cc-35e5-4b78-b705-f876ab4d74e2",
   "metadata": {},
   "outputs": [
    {
     "data": {
      "text/html": [
       "<div>\n",
       "<style scoped>\n",
       "    .dataframe tbody tr th:only-of-type {\n",
       "        vertical-align: middle;\n",
       "    }\n",
       "\n",
       "    .dataframe tbody tr th {\n",
       "        vertical-align: top;\n",
       "    }\n",
       "\n",
       "    .dataframe thead th {\n",
       "        text-align: right;\n",
       "    }\n",
       "</style>\n",
       "<table border=\"1\" class=\"dataframe\">\n",
       "  <thead>\n",
       "    <tr style=\"text-align: right;\">\n",
       "      <th></th>\n",
       "      <th>geometry</th>\n",
       "      <th>address</th>\n",
       "      <th>Attraction</th>\n",
       "      <th>lon</th>\n",
       "      <th>lat</th>\n",
       "    </tr>\n",
       "  </thead>\n",
       "  <tbody>\n",
       "    <tr>\n",
       "      <th>0</th>\n",
       "      <td>POINT (-77.03296 38.88898)</td>\n",
       "      <td>2 15th St NW, Washington Mall, Washington, Dis...</td>\n",
       "      <td>Washington Monument</td>\n",
       "      <td>-77.03296</td>\n",
       "      <td>38.88898</td>\n",
       "    </tr>\n",
       "    <tr>\n",
       "      <th>1</th>\n",
       "      <td>POINT (-77.02007 38.88756)</td>\n",
       "      <td>600 Independence Ave SW, Southwest Employment ...</td>\n",
       "      <td>Smithsonian National Air and Space Museum</td>\n",
       "      <td>-77.02007</td>\n",
       "      <td>38.88756</td>\n",
       "    </tr>\n",
       "    <tr>\n",
       "      <th>2</th>\n",
       "      <td>POINT (-77.03655 38.89795)</td>\n",
       "      <td>1600 Pennsylvania Ave NW, Washington Mall, Was...</td>\n",
       "      <td>White House</td>\n",
       "      <td>-77.03655</td>\n",
       "      <td>38.89795</td>\n",
       "    </tr>\n",
       "  </tbody>\n",
       "</table>\n",
       "</div>"
      ],
      "text/plain": [
       "                     geometry  \\\n",
       "0  POINT (-77.03296 38.88898)   \n",
       "1  POINT (-77.02007 38.88756)   \n",
       "2  POINT (-77.03655 38.89795)   \n",
       "\n",
       "                                             address  \\\n",
       "0  2 15th St NW, Washington Mall, Washington, Dis...   \n",
       "1  600 Independence Ave SW, Southwest Employment ...   \n",
       "2  1600 Pennsylvania Ave NW, Washington Mall, Was...   \n",
       "\n",
       "                                  Attraction       lon       lat  \n",
       "0                        Washington Monument -77.03296  38.88898  \n",
       "1  Smithsonian National Air and Space Museum -77.02007  38.88756  \n",
       "2                                White House -77.03655  38.89795  "
      ]
     },
     "execution_count": 5,
     "metadata": {},
     "output_type": "execute_result"
    }
   ],
   "source": [
    "dc_attractions_gpd = (\n",
    "    dc_attractions_gpd\n",
    "    .assign(\n",
    "        lon = lambda _df: _df.geometry.x\n",
    "        ,lat = lambda _df: _df.geometry.y)\n",
    ")\n",
    "\n",
    "dc_attractions_gpd"
   ]
  },
  {
   "cell_type": "markdown",
   "id": "04dbdcf9-5b00-428e-ae21-fbfb5ea19a70",
   "metadata": {},
   "source": [
    "Para definir un mapa con _Leaflet_ es necesario crea una instancia de mapa indicando el **tipo de mapa**, el **punto de referencia** en torno al cual estará centrado el mapa, y el nivel de **zoom** que tendrá por defecto la visualización.\n",
    "\n",
    "Para mayor detalle del tipo de mapa que se puede utilizar en las visualizaciones se puede consultar la [documentación](https://ipyleaflet.readthedocs.io/en/latest/map_and_basemaps/basemaps.html) de _Leaflet_"
   ]
  },
  {
   "cell_type": "code",
   "execution_count": 6,
   "id": "c79624bf",
   "metadata": {},
   "outputs": [
    {
     "data": {
      "application/vnd.jupyter.widget-view+json": {
       "model_id": "46a624ef8bd94fa890d0dac73536a3e4",
       "version_major": 2,
       "version_minor": 0
      },
      "text/plain": [
       "Map(center=[38.89951498583087, -77.03599825749647], controls=(ZoomControl(options=['position', 'zoom_in_text',…"
      ]
     },
     "execution_count": 6,
     "metadata": {},
     "output_type": "execute_result"
    }
   ],
   "source": [
    "# Iniciar instancia de mapa\n",
    "map = Map(\n",
    "    basemap=basemap_to_tiles(basemap=basemaps.CartoDB.Positron), # .Stamen.Toner\n",
    "    center=(38.89951498583087, -77.03599825749647),\n",
    "    zoom=12)\n",
    "\n",
    "map"
   ]
  },
  {
   "cell_type": "markdown",
   "id": "5e10724d-9794-48ec-9b28-2b9c4c9d61e5",
   "metadata": {},
   "source": [
    "Una vez creada la base, se van agregando los diferentes objetos a modo de capas en el mapa."
   ]
  },
  {
   "cell_type": "code",
   "execution_count": 7,
   "id": "f2c111b5",
   "metadata": {},
   "outputs": [
    {
     "data": {
      "application/vnd.jupyter.widget-view+json": {
       "model_id": "46a624ef8bd94fa890d0dac73536a3e4",
       "version_major": 2,
       "version_minor": 0
      },
      "text/plain": [
       "Map(center=[38.89951498583087, -77.03599825749647], controls=(ZoomControl(options=['position', 'zoom_in_text',…"
      ]
     },
     "execution_count": 7,
     "metadata": {},
     "output_type": "execute_result"
    }
   ],
   "source": [
    "# Mapeo de coordenadas como marcadores\n",
    "for index, row in dc_attractions_gpd.iterrows():\n",
    "    # Crear marcador\n",
    "    marker = Marker(\n",
    "        location=[row.loc['lat'], row.loc['lon']]\n",
    "        ,title=row.loc['Attraction'])\n",
    "\n",
    "    # Agregar marcador al mapa\n",
    "    map.add_layer(layer=marker)\n",
    "\n",
    "map"
   ]
  },
  {
   "cell_type": "markdown",
   "id": "6ca4ab76-9560-46f1-ace9-7dab9bd35a0b",
   "metadata": {},
   "source": [
    "---"
   ]
  }
 ],
 "metadata": {
  "kernelspec": {
   "display_name": "Python 3 (ipykernel)",
   "language": "python",
   "name": "python3"
  },
  "language_info": {
   "codemirror_mode": {
    "name": "ipython",
    "version": 3
   },
   "file_extension": ".py",
   "mimetype": "text/x-python",
   "name": "python",
   "nbconvert_exporter": "python",
   "pygments_lexer": "ipython3",
   "version": "3.10.12"
  }
 },
 "nbformat": 4,
 "nbformat_minor": 5
}
