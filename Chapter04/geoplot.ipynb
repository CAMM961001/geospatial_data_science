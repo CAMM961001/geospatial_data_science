{
 "cells": [
  {
   "cell_type": "markdown",
   "id": "00ebbeaf-3cea-4f98-8923-85b197b5080e",
   "metadata": {},
   "source": [
    "# Geoplot\n",
    "\n",
    "Es una librería de visualizaciones estáticas para datos geoespaciales, que es una extensión de `cartopy` y `matplotlib` cuyo objetivo es la creación de mapas de forma fácil y simple. Tiene la ventaja de que soporta de forma nativa proyecciones cartográficas. \n",
    "\n",
    "Para ilustrarlo, se presenta a continuación un ejemplo de **cartograma**, que es un tipo de mapa en el cual información estadística se muestra en un formato basado en diagramas.\n",
    "\n",
    "Carga de librerías"
   ]
  },
  {
   "cell_type": "code",
   "execution_count": 1,
   "id": "cd827b64",
   "metadata": {},
   "outputs": [],
   "source": [
    "import geoplot as gplt\n",
    "import geoplot.crs as gcrs\n",
    "import geopandas as gpd"
   ]
  },
  {
   "cell_type": "markdown",
   "id": "809ac28d-9f8d-4dff-a2b6-d119ec2c3773",
   "metadata": {},
   "source": [
    "Carga de datos"
   ]
  },
  {
   "cell_type": "code",
   "execution_count": 2,
   "id": "9555b313",
   "metadata": {},
   "outputs": [
    {
     "name": "stderr",
     "output_type": "stream",
     "text": [
      "C:\\Users\\Miguel\\AppData\\Local\\Temp\\ipykernel_3068\\2420004986.py:2: FutureWarning: The geopandas.dataset module is deprecated and will be removed in GeoPandas 1.0. You can get the original 'naturalearth_lowres' data from https://www.naturalearthdata.com/downloads/110m-cultural-vectors/.\n",
      "  world = gpd.read_file(gpd.datasets.get_path('naturalearth_lowres'))\n",
      "C:\\Users\\Miguel\\AppData\\Local\\Temp\\ipykernel_3068\\2420004986.py:5: UserWarning: Geometry is in a geographic CRS. Results from 'area' are likely incorrect. Use 'GeoSeries.to_crs()' to re-project geometries to a projected CRS before this operation.\n",
      "\n",
      "  world['area'] = world.geometry.area\n"
     ]
    },
    {
     "data": {
      "text/html": [
       "<div>\n",
       "<style scoped>\n",
       "    .dataframe tbody tr th:only-of-type {\n",
       "        vertical-align: middle;\n",
       "    }\n",
       "\n",
       "    .dataframe tbody tr th {\n",
       "        vertical-align: top;\n",
       "    }\n",
       "\n",
       "    .dataframe thead th {\n",
       "        text-align: right;\n",
       "    }\n",
       "</style>\n",
       "<table border=\"1\" class=\"dataframe\">\n",
       "  <thead>\n",
       "    <tr style=\"text-align: right;\">\n",
       "      <th></th>\n",
       "      <th>pop_est</th>\n",
       "      <th>continent</th>\n",
       "      <th>name</th>\n",
       "      <th>iso_a3</th>\n",
       "      <th>gdp_md_est</th>\n",
       "      <th>geometry</th>\n",
       "      <th>area</th>\n",
       "    </tr>\n",
       "  </thead>\n",
       "  <tbody>\n",
       "    <tr>\n",
       "      <th>0</th>\n",
       "      <td>889953.0</td>\n",
       "      <td>Oceania</td>\n",
       "      <td>Fiji</td>\n",
       "      <td>FJI</td>\n",
       "      <td>5496</td>\n",
       "      <td>MULTIPOLYGON (((180.00000 -16.06713, 180.00000...</td>\n",
       "      <td>1.639511</td>\n",
       "    </tr>\n",
       "    <tr>\n",
       "      <th>1</th>\n",
       "      <td>58005463.0</td>\n",
       "      <td>Africa</td>\n",
       "      <td>Tanzania</td>\n",
       "      <td>TZA</td>\n",
       "      <td>63177</td>\n",
       "      <td>POLYGON ((33.90371 -0.95000, 34.07262 -1.05982...</td>\n",
       "      <td>76.301964</td>\n",
       "    </tr>\n",
       "    <tr>\n",
       "      <th>2</th>\n",
       "      <td>603253.0</td>\n",
       "      <td>Africa</td>\n",
       "      <td>W. Sahara</td>\n",
       "      <td>ESH</td>\n",
       "      <td>907</td>\n",
       "      <td>POLYGON ((-8.66559 27.65643, -8.66512 27.58948...</td>\n",
       "      <td>8.603984</td>\n",
       "    </tr>\n",
       "    <tr>\n",
       "      <th>3</th>\n",
       "      <td>37589262.0</td>\n",
       "      <td>North America</td>\n",
       "      <td>Canada</td>\n",
       "      <td>CAN</td>\n",
       "      <td>1736425</td>\n",
       "      <td>MULTIPOLYGON (((-122.84000 49.00000, -122.9742...</td>\n",
       "      <td>1712.995228</td>\n",
       "    </tr>\n",
       "    <tr>\n",
       "      <th>4</th>\n",
       "      <td>328239523.0</td>\n",
       "      <td>North America</td>\n",
       "      <td>United States of America</td>\n",
       "      <td>USA</td>\n",
       "      <td>21433226</td>\n",
       "      <td>MULTIPOLYGON (((-122.84000 49.00000, -120.0000...</td>\n",
       "      <td>1122.281921</td>\n",
       "    </tr>\n",
       "  </tbody>\n",
       "</table>\n",
       "</div>"
      ],
      "text/plain": [
       "       pop_est      continent                      name iso_a3  gdp_md_est  \\\n",
       "0     889953.0        Oceania                      Fiji    FJI        5496   \n",
       "1   58005463.0         Africa                  Tanzania    TZA       63177   \n",
       "2     603253.0         Africa                 W. Sahara    ESH         907   \n",
       "3   37589262.0  North America                    Canada    CAN     1736425   \n",
       "4  328239523.0  North America  United States of America    USA    21433226   \n",
       "\n",
       "                                            geometry         area  \n",
       "0  MULTIPOLYGON (((180.00000 -16.06713, 180.00000...     1.639511  \n",
       "1  POLYGON ((33.90371 -0.95000, 34.07262 -1.05982...    76.301964  \n",
       "2  POLYGON ((-8.66559 27.65643, -8.66512 27.58948...     8.603984  \n",
       "3  MULTIPOLYGON (((-122.84000 49.00000, -122.9742...  1712.995228  \n",
       "4  MULTIPOLYGON (((-122.84000 49.00000, -120.0000...  1122.281921  "
      ]
     },
     "execution_count": 2,
     "metadata": {},
     "output_type": "execute_result"
    }
   ],
   "source": [
    "# Datos de referencia de geopandas\n",
    "world = gpd.read_file(gpd.datasets.get_path('naturalearth_lowres'))\n",
    "\n",
    "# Calcular área de los polígonos\n",
    "world['area'] = world.geometry.area\n",
    "\n",
    "world.head()"
   ]
  },
  {
   "cell_type": "markdown",
   "id": "1a70b10b-d74d-4e9b-a9ed-ab352e580d5d",
   "metadata": {},
   "source": [
    "Para este ejercicio, se hace un mapa de América del Norte re-escalando los países proporcionalmente a algún indicador, por ejemplo: `area`"
   ]
  },
  {
   "cell_type": "code",
   "execution_count": 3,
   "id": "cf2652f6",
   "metadata": {},
   "outputs": [
    {
     "data": {
      "text/plain": [
       "<GeoAxes: >"
      ]
     },
     "execution_count": 3,
     "metadata": {},
     "output_type": "execute_result"
    },
    {
     "data": {
      "image/png": "[encoded data removed]",
      "text/plain": [
       "<Figure size 800x800 with 1 Axes>"
      ]
     },
     "metadata": {},
     "output_type": "display_data"
    }
   ],
   "source": [
    "gplt.cartogram(\n",
    "    df=world.query(\"continent == 'North America'\")\n",
    "    ,scale='area'\n",
    "    ,projection=gcrs.AlbersEqualArea()\n",
    "    ,figsize=(8,8))"
   ]
  },
  {
   "cell_type": "markdown",
   "id": "eb0f4077-516f-40f1-8d2d-b3c9116458cd",
   "metadata": {},
   "source": [
    "Y se hace la comparación con otro indicador, por ejemplo: `pop_est`"
   ]
  },
  {
   "cell_type": "code",
   "execution_count": 4,
   "id": "8e2322a2",
   "metadata": {},
   "outputs": [
    {
     "data": {
      "text/plain": [
       "<GeoAxes: >"
      ]
     },
     "execution_count": 4,
     "metadata": {},
     "output_type": "execute_result"
    },
    {
     "data": {
      "image/png": "[encoded data removed]",
      "text/plain": [
       "<Figure size 800x800 with 1 Axes>"
      ]
     },
     "metadata": {},
     "output_type": "display_data"
    }
   ],
   "source": [
    "gplt.cartogram(\n",
    "    df=world.query(\"continent == 'North America'\")\n",
    "    ,scale='pop_est'\n",
    "    ,projection=gcrs.AlbersEqualArea()\n",
    "    ,figsize=(8,8))"
   ]
  },
  {
   "cell_type": "markdown",
   "id": "ce1af109-9fe1-4818-893a-bc44767ce248",
   "metadata": {},
   "source": [
    "Nótese que hacer estos escalamientos en realidad son operaciones complejas, sin embargo, _Geoplot_ permite hacerlos de forma sencilla\n",
    "\n",
    "---"
   ]
  }
 ],
 "metadata": {
  "kernelspec": {
   "display_name": "Python 3 (ipykernel)",
   "language": "python",
   "name": "python3"
  },
  "language_info": {
   "codemirror_mode": {
    "name": "ipython",
    "version": 3
   },
   "file_extension": ".py",
   "mimetype": "text/x-python",
   "name": "python",
   "nbconvert_exporter": "python",
   "pygments_lexer": "ipython3",
   "version": "3.10.12"
  }
 },
 "nbformat": 4,
 "nbformat_minor": 5
}
