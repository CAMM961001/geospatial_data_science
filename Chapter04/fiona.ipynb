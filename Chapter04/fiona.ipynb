{
 "cells": [
  {
   "cell_type": "markdown",
   "id": "0f88ae5d-d056-493f-a66c-f108283d1c46",
   "metadata": {},
   "source": [
    "# Fiona\n",
    "\n",
    "Fiona es un paquete utilizado para lectura y escritura de archivo de datos geoespaciales, utilizando protocolos básicos de Python como lo son tipos de archivo, mapeos, diccionarios, e iteradores. La forma de leer datos es tal que se puedan modelar a modo de GeoJSON.\n",
    "\n",
    "Carga de librerías"
   ]
  },
  {
   "cell_type": "code",
   "execution_count": 1,
   "id": "78871fec",
   "metadata": {},
   "outputs": [],
   "source": [
    "import os\n",
    "import fiona"
   ]
  },
  {
   "cell_type": "markdown",
   "id": "c49edb8c-5683-438b-ac16-26aa6a7fe471",
   "metadata": {},
   "source": [
    "Ruta relativa a archivos de datos:"
   ]
  },
  {
   "cell_type": "code",
   "execution_count": 2,
   "id": "9be4a881",
   "metadata": {},
   "outputs": [],
   "source": [
    "# Path a archivos de datos\n",
    "ROOT = os.path.dirname(os.getcwd())\n",
    "data_path = os.path.join(ROOT, 'data', 'Data pt1')"
   ]
  },
  {
   "cell_type": "markdown",
   "id": "5caaef3e-868f-4f97-8537-1378d5b8d0ef",
   "metadata": {},
   "source": [
    "Carga de datos utilizando funciones de `fiona`:"
   ]
  },
  {
   "cell_type": "code",
   "execution_count": 3,
   "id": "72d7c3d3",
   "metadata": {},
   "outputs": [
    {
     "data": {
      "text/plain": [
       "<open Collection 'C:\\Users\\Miguel\\Documents\\Github\\geospatial_data_science\\data\\Data pt1\\CA_CBSAs\\ca_cbsas.shp:ca_cbsas', mode 'r' at 0x1da4f9d0e80>"
      ]
     },
     "execution_count": 3,
     "metadata": {},
     "output_type": "execute_result"
    }
   ],
   "source": [
    "# Carga de datos con fiona\n",
    "f_obj = fiona.open(\n",
    "    fp=os.path.join(data_path, 'CA_CBSAs', 'ca_cbsas.shp')\n",
    "    ,mode='r')\n",
    "\n",
    "f_obj"
   ]
  },
  {
   "cell_type": "markdown",
   "id": "dbcee33f-95e6-4e31-a790-6e6b31730423",
   "metadata": {},
   "source": [
    "Validar longitud del archivo cargado:"
   ]
  },
  {
   "cell_type": "code",
   "execution_count": 4,
   "id": "1104c6d2-aed9-4930-ab22-dc82a8bdea2e",
   "metadata": {},
   "outputs": [
    {
     "data": {
      "text/plain": [
       "46"
      ]
     },
     "execution_count": 4,
     "metadata": {},
     "output_type": "execute_result"
    }
   ],
   "source": [
    "len(f_obj)"
   ]
  },
  {
   "cell_type": "markdown",
   "id": "356d138a-f950-4acc-9956-4704d46726a5",
   "metadata": {},
   "source": [
    "---"
   ]
  }
 ],
 "metadata": {
  "kernelspec": {
   "display_name": "Python 3 (ipykernel)",
   "language": "python",
   "name": "python3"
  },
  "language_info": {
   "codemirror_mode": {
    "name": "ipython",
    "version": 3
   },
   "file_extension": ".py",
   "mimetype": "text/x-python",
   "name": "python",
   "nbconvert_exporter": "python",
   "pygments_lexer": "ipython3",
   "version": "3.10.12"
  }
 },
 "nbformat": 4,
 "nbformat_minor": 5
}
