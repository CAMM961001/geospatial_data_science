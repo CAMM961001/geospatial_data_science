{
 "cells": [
  {
   "cell_type": "markdown",
   "id": "4ec5d988",
   "metadata": {},
   "source": [
    "Carga de librerías"
   ]
  },
  {
   "cell_type": "code",
   "execution_count": 1,
   "id": "9e09f545",
   "metadata": {},
   "outputs": [],
   "source": [
    "import os\n",
    "os.environ['USE_PYGEOS'] = '0'\n",
    "\n",
    "import geopandas as gpd"
   ]
  },
  {
   "cell_type": "markdown",
   "id": "7d2acf51",
   "metadata": {},
   "source": [
    "Definición de rutas relativas a archivos de datos"
   ]
  },
  {
   "cell_type": "code",
   "execution_count": 2,
   "id": "7095586f",
   "metadata": {},
   "outputs": [],
   "source": [
    "# Path a archivos de datos\n",
    "ROOT = os.path.dirname(os.getcwd())\n",
    "data_path = os.path.join(\n",
    "    ROOT\n",
    "    ,'data','Data pt1')\n",
    "\n",
    "# Path a archivos generados en script\n",
    "out_path = os.path.join(\n",
    "    ROOT\n",
    "    ,'data','outputs','chp04')"
   ]
  },
  {
   "cell_type": "markdown",
   "id": "6aaf5ce0",
   "metadata": {
    "editable": true,
    "slideshow": {
     "slide_type": ""
    },
    "tags": []
   },
   "source": [
    "# Geopandas\n",
    "\n",
    "_Geopandas_ es una extensión de `pandas` que incorpora funciones para soportar las estructuras de datos necesarias para trabajar con datos espaciales. Dentro de las funciones centrales de _Geopandas_ se encuentran:\n",
    "\n",
    "* [Lectura y escritura de datos](#Lectura-y-escritura-de-datos)\n",
    "* Estructuras de datos espaciales\n",
    "* Gestión de proyecciones\n",
    "* Visualización de datos espaciales\n",
    "* Manipulación y transformación de datos\n",
    "* [Geocoding](#Geocoding)\n",
    "\n",
    "## Lectura y escritura de datos\n",
    "\n",
    "Geopandas soporta de forma nativa la lectura y escritura de casi cualquier formato de datos tipo vector, ya sean _ESRI shapefile_ or _GeoJSON_. Para leer se utilizan los siguientes comandos:"
   ]
  },
  {
   "cell_type": "code",
   "execution_count": 3,
   "id": "c37d4216",
   "metadata": {},
   "outputs": [
    {
     "data": {
      "text/html": [
       "<div>\n",
       "<style scoped>\n",
       "    .dataframe tbody tr th:only-of-type {\n",
       "        vertical-align: middle;\n",
       "    }\n",
       "\n",
       "    .dataframe tbody tr th {\n",
       "        vertical-align: top;\n",
       "    }\n",
       "\n",
       "    .dataframe thead th {\n",
       "        text-align: right;\n",
       "    }\n",
       "</style>\n",
       "<table border=\"1\" class=\"dataframe\">\n",
       "  <thead>\n",
       "    <tr style=\"text-align: right;\">\n",
       "      <th></th>\n",
       "      <th>degrees</th>\n",
       "      <th>direction</th>\n",
       "      <th>display</th>\n",
       "      <th>scalerank</th>\n",
       "      <th>dd</th>\n",
       "      <th>geometry</th>\n",
       "    </tr>\n",
       "  </thead>\n",
       "  <tbody>\n",
       "    <tr>\n",
       "      <th>0</th>\n",
       "      <td>80</td>\n",
       "      <td>N</td>\n",
       "      <td>80 N</td>\n",
       "      <td>4</td>\n",
       "      <td>80</td>\n",
       "      <td>LINESTRING (180.00000 79.99848, 179.99664 79.9...</td>\n",
       "    </tr>\n",
       "    <tr>\n",
       "      <th>1</th>\n",
       "      <td>70</td>\n",
       "      <td>N</td>\n",
       "      <td>70 N</td>\n",
       "      <td>4</td>\n",
       "      <td>70</td>\n",
       "      <td>LINESTRING (180.00000 69.99847, 179.99664 69.9...</td>\n",
       "    </tr>\n",
       "    <tr>\n",
       "      <th>2</th>\n",
       "      <td>60</td>\n",
       "      <td>N</td>\n",
       "      <td>60 N</td>\n",
       "      <td>4</td>\n",
       "      <td>60</td>\n",
       "      <td>LINESTRING (180.00000 59.99866, 179.99664 59.9...</td>\n",
       "    </tr>\n",
       "  </tbody>\n",
       "</table>\n",
       "</div>"
      ],
      "text/plain": [
       "   degrees direction display  scalerank  dd  \\\n",
       "0       80         N    80 N          4  80   \n",
       "1       70         N    70 N          4  70   \n",
       "2       60         N    60 N          4  60   \n",
       "\n",
       "                                            geometry  \n",
       "0  LINESTRING (180.00000 79.99848, 179.99664 79.9...  \n",
       "1  LINESTRING (180.00000 69.99847, 179.99664 69.9...  \n",
       "2  LINESTRING (180.00000 59.99866, 179.99664 59.9...  "
      ]
     },
     "execution_count": 3,
     "metadata": {},
     "output_type": "execute_result"
    }
   ],
   "source": [
    "# Lectura de datos\n",
    "capitals = gpd.read_file(\n",
    "    filename=os.path.join(data_path, 'Graticule', 'ne_110m_graticules_10.shp')\n",
    "    ,driver='shapefile')\n",
    "\n",
    "capitals.head(3)"
   ]
  },
  {
   "cell_type": "markdown",
   "id": "ff9be634-5e12-4d79-a965-62b4484f47ec",
   "metadata": {},
   "source": [
    "También tiene soporte para leer archivos en línea:"
   ]
  },
  {
   "cell_type": "code",
   "execution_count": 4,
   "id": "b918d641",
   "metadata": {},
   "outputs": [
    {
     "data": {
      "text/html": [
       "<div>\n",
       "<style scoped>\n",
       "    .dataframe tbody tr th:only-of-type {\n",
       "        vertical-align: middle;\n",
       "    }\n",
       "\n",
       "    .dataframe tbody tr th {\n",
       "        vertical-align: top;\n",
       "    }\n",
       "\n",
       "    .dataframe thead th {\n",
       "        text-align: right;\n",
       "    }\n",
       "</style>\n",
       "<table border=\"1\" class=\"dataframe\">\n",
       "  <thead>\n",
       "    <tr style=\"text-align: right;\">\n",
       "      <th></th>\n",
       "      <th>scalerank</th>\n",
       "      <th>adm1_code</th>\n",
       "      <th>diss_me</th>\n",
       "      <th>adm1_cod_1</th>\n",
       "      <th>iso_3166_2</th>\n",
       "      <th>wikipedia</th>\n",
       "      <th>sr_sov_a3</th>\n",
       "      <th>sr_adm0_a3</th>\n",
       "      <th>iso_a2</th>\n",
       "      <th>adm0_sr</th>\n",
       "      <th>...</th>\n",
       "      <th>area_sqkm</th>\n",
       "      <th>sameascity</th>\n",
       "      <th>labelrank</th>\n",
       "      <th>featurec_1</th>\n",
       "      <th>admin</th>\n",
       "      <th>name_len</th>\n",
       "      <th>mapcolor9</th>\n",
       "      <th>mapcolor13</th>\n",
       "      <th>featureclass</th>\n",
       "      <th>geometry</th>\n",
       "    </tr>\n",
       "  </thead>\n",
       "  <tbody>\n",
       "    <tr>\n",
       "      <th>0</th>\n",
       "      <td>2</td>\n",
       "      <td>USA-3514</td>\n",
       "      <td>3514</td>\n",
       "      <td>USA-3514</td>\n",
       "      <td>US-MN</td>\n",
       "      <td>http://en.wikipedia.org/wiki/Minnesota</td>\n",
       "      <td>US1</td>\n",
       "      <td>USA</td>\n",
       "      <td>US</td>\n",
       "      <td>1</td>\n",
       "      <td>...</td>\n",
       "      <td>0</td>\n",
       "      <td>-99</td>\n",
       "      <td>0</td>\n",
       "      <td>Admin-1 scale rank</td>\n",
       "      <td>United States of America</td>\n",
       "      <td>9</td>\n",
       "      <td>1</td>\n",
       "      <td>1</td>\n",
       "      <td>Admin-1 scale rank</td>\n",
       "      <td>POLYGON ((-89.59941 48.01027, -89.48888 48.013...</td>\n",
       "    </tr>\n",
       "    <tr>\n",
       "      <th>1</th>\n",
       "      <td>2</td>\n",
       "      <td>USA-3515</td>\n",
       "      <td>3515</td>\n",
       "      <td>USA-3515</td>\n",
       "      <td>US-MT</td>\n",
       "      <td>http://en.wikipedia.org/wiki/Montana</td>\n",
       "      <td>US1</td>\n",
       "      <td>USA</td>\n",
       "      <td>US</td>\n",
       "      <td>1</td>\n",
       "      <td>...</td>\n",
       "      <td>0</td>\n",
       "      <td>-99</td>\n",
       "      <td>0</td>\n",
       "      <td>Admin-1 scale rank</td>\n",
       "      <td>United States of America</td>\n",
       "      <td>7</td>\n",
       "      <td>1</td>\n",
       "      <td>1</td>\n",
       "      <td>Admin-1 scale rank</td>\n",
       "      <td>POLYGON ((-111.19419 44.56116, -111.29155 44.7...</td>\n",
       "    </tr>\n",
       "    <tr>\n",
       "      <th>2</th>\n",
       "      <td>2</td>\n",
       "      <td>USA-3516</td>\n",
       "      <td>3516</td>\n",
       "      <td>USA-3516</td>\n",
       "      <td>US-ND</td>\n",
       "      <td>http://en.wikipedia.org/wiki/North_Dakota</td>\n",
       "      <td>US1</td>\n",
       "      <td>USA</td>\n",
       "      <td>US</td>\n",
       "      <td>1</td>\n",
       "      <td>...</td>\n",
       "      <td>0</td>\n",
       "      <td>-99</td>\n",
       "      <td>0</td>\n",
       "      <td>Admin-1 scale rank</td>\n",
       "      <td>United States of America</td>\n",
       "      <td>12</td>\n",
       "      <td>1</td>\n",
       "      <td>1</td>\n",
       "      <td>Admin-1 scale rank</td>\n",
       "      <td>POLYGON ((-96.60136 46.35136, -96.53891 46.199...</td>\n",
       "    </tr>\n",
       "  </tbody>\n",
       "</table>\n",
       "<p>3 rows × 41 columns</p>\n",
       "</div>"
      ],
      "text/plain": [
       "   scalerank adm1_code  diss_me adm1_cod_1 iso_3166_2  \\\n",
       "0          2  USA-3514     3514   USA-3514      US-MN   \n",
       "1          2  USA-3515     3515   USA-3515      US-MT   \n",
       "2          2  USA-3516     3516   USA-3516      US-ND   \n",
       "\n",
       "                                   wikipedia sr_sov_a3 sr_adm0_a3 iso_a2  \\\n",
       "0     http://en.wikipedia.org/wiki/Minnesota       US1        USA     US   \n",
       "1       http://en.wikipedia.org/wiki/Montana       US1        USA     US   \n",
       "2  http://en.wikipedia.org/wiki/North_Dakota       US1        USA     US   \n",
       "\n",
       "   adm0_sr  ...  area_sqkm sameascity labelrank          featurec_1  \\\n",
       "0        1  ...          0        -99         0  Admin-1 scale rank   \n",
       "1        1  ...          0        -99         0  Admin-1 scale rank   \n",
       "2        1  ...          0        -99         0  Admin-1 scale rank   \n",
       "\n",
       "                      admin name_len mapcolor9 mapcolor13        featureclass  \\\n",
       "0  United States of America        9         1          1  Admin-1 scale rank   \n",
       "1  United States of America        7         1          1  Admin-1 scale rank   \n",
       "2  United States of America       12         1          1  Admin-1 scale rank   \n",
       "\n",
       "                                            geometry  \n",
       "0  POLYGON ((-89.59941 48.01027, -89.48888 48.013...  \n",
       "1  POLYGON ((-111.19419 44.56116, -111.29155 44.7...  \n",
       "2  POLYGON ((-96.60136 46.35136, -96.53891 46.199...  \n",
       "\n",
       "[3 rows x 41 columns]"
      ]
     },
     "execution_count": 4,
     "metadata": {},
     "output_type": "execute_result"
    }
   ],
   "source": [
    "# Lectura desde url\n",
    "url = 'https://d2ad6b4ur7yvpq.cloudfront.net/naturalearth-3.3.0/ne_110m_admin_1_states_provinces_shp.geojson'\n",
    "us_states = gpd.read_file(url)\n",
    "\n",
    "us_states.head(3)"
   ]
  },
  {
   "cell_type": "markdown",
   "id": "47d815f2-5d05-456c-9231-7a47b262c300",
   "metadata": {},
   "source": [
    "De igual manera, soporta leer archivos comprimidos sin necesidad de descomprimirlos explícitamente:"
   ]
  },
  {
   "cell_type": "code",
   "execution_count": 5,
   "id": "cc443392",
   "metadata": {},
   "outputs": [
    {
     "data": {
      "text/html": [
       "<div>\n",
       "<style scoped>\n",
       "    .dataframe tbody tr th:only-of-type {\n",
       "        vertical-align: middle;\n",
       "    }\n",
       "\n",
       "    .dataframe tbody tr th {\n",
       "        vertical-align: top;\n",
       "    }\n",
       "\n",
       "    .dataframe thead th {\n",
       "        text-align: right;\n",
       "    }\n",
       "</style>\n",
       "<table border=\"1\" class=\"dataframe\">\n",
       "  <thead>\n",
       "    <tr style=\"text-align: right;\">\n",
       "      <th></th>\n",
       "      <th>CSAFP</th>\n",
       "      <th>CBSAFP</th>\n",
       "      <th>GEOID</th>\n",
       "      <th>NAME</th>\n",
       "      <th>NAMELSAD</th>\n",
       "      <th>LSAD</th>\n",
       "      <th>MEMI</th>\n",
       "      <th>MTFCC</th>\n",
       "      <th>ALAND</th>\n",
       "      <th>AWATER</th>\n",
       "      <th>INTPTLAT</th>\n",
       "      <th>INTPTLON</th>\n",
       "      <th>geometry</th>\n",
       "    </tr>\n",
       "  </thead>\n",
       "  <tbody>\n",
       "    <tr>\n",
       "      <th>0</th>\n",
       "      <td>122</td>\n",
       "      <td>12020</td>\n",
       "      <td>12020</td>\n",
       "      <td>Athens-Clarke County, GA</td>\n",
       "      <td>Athens-Clarke County, GA Metro Area</td>\n",
       "      <td>M1</td>\n",
       "      <td>1</td>\n",
       "      <td>G3110</td>\n",
       "      <td>2654607902</td>\n",
       "      <td>26109459</td>\n",
       "      <td>+33.9439840</td>\n",
       "      <td>-083.2138965</td>\n",
       "      <td>POLYGON ((-83.36003 34.04057, -83.36757 34.043...</td>\n",
       "    </tr>\n",
       "    <tr>\n",
       "      <th>1</th>\n",
       "      <td>122</td>\n",
       "      <td>12060</td>\n",
       "      <td>12060</td>\n",
       "      <td>Atlanta-Sandy Springs-Alpharetta, GA</td>\n",
       "      <td>Atlanta-Sandy Springs-Alpharetta, GA Metro Area</td>\n",
       "      <td>M1</td>\n",
       "      <td>1</td>\n",
       "      <td>G3110</td>\n",
       "      <td>22495873026</td>\n",
       "      <td>386782308</td>\n",
       "      <td>+33.6937280</td>\n",
       "      <td>-084.3999113</td>\n",
       "      <td>POLYGON ((-84.27014 32.99101, -84.27084 32.991...</td>\n",
       "    </tr>\n",
       "    <tr>\n",
       "      <th>2</th>\n",
       "      <td>428</td>\n",
       "      <td>12100</td>\n",
       "      <td>12100</td>\n",
       "      <td>Atlantic City-Hammonton, NJ</td>\n",
       "      <td>Atlantic City-Hammonton, NJ Metro Area</td>\n",
       "      <td>M1</td>\n",
       "      <td>1</td>\n",
       "      <td>G3110</td>\n",
       "      <td>1438775279</td>\n",
       "      <td>301270067</td>\n",
       "      <td>+39.4693555</td>\n",
       "      <td>-074.6337591</td>\n",
       "      <td>POLYGON ((-74.58640 39.30989, -74.58665 39.309...</td>\n",
       "    </tr>\n",
       "  </tbody>\n",
       "</table>\n",
       "</div>"
      ],
      "text/plain": [
       "  CSAFP CBSAFP  GEOID                                  NAME  \\\n",
       "0   122  12020  12020              Athens-Clarke County, GA   \n",
       "1   122  12060  12060  Atlanta-Sandy Springs-Alpharetta, GA   \n",
       "2   428  12100  12100           Atlantic City-Hammonton, NJ   \n",
       "\n",
       "                                          NAMELSAD LSAD MEMI  MTFCC  \\\n",
       "0              Athens-Clarke County, GA Metro Area   M1    1  G3110   \n",
       "1  Atlanta-Sandy Springs-Alpharetta, GA Metro Area   M1    1  G3110   \n",
       "2           Atlantic City-Hammonton, NJ Metro Area   M1    1  G3110   \n",
       "\n",
       "         ALAND     AWATER     INTPTLAT      INTPTLON  \\\n",
       "0   2654607902   26109459  +33.9439840  -083.2138965   \n",
       "1  22495873026  386782308  +33.6937280  -084.3999113   \n",
       "2   1438775279  301270067  +39.4693555  -074.6337591   \n",
       "\n",
       "                                            geometry  \n",
       "0  POLYGON ((-83.36003 34.04057, -83.36757 34.043...  \n",
       "1  POLYGON ((-84.27014 32.99101, -84.27084 32.991...  \n",
       "2  POLYGON ((-74.58640 39.30989, -74.58665 39.309...  "
      ]
     },
     "execution_count": 5,
     "metadata": {},
     "output_type": "execute_result"
    }
   ],
   "source": [
    "# Reading in data stored in a zipped file\n",
    "us_cbsas = gpd.read_file(\n",
    "    filename=os.path.join(data_path, 'tl_2021_us_cbsa.zip'))\n",
    "\n",
    "us_cbsas.head(3)"
   ]
  },
  {
   "cell_type": "markdown",
   "id": "f0ddc268",
   "metadata": {},
   "source": [
    "### Filtering using the mask parameter"
   ]
  },
  {
   "cell_type": "code",
   "execution_count": null,
   "id": "1b06a321",
   "metadata": {},
   "outputs": [],
   "source": [
    "# Read in the US States file from the Census Tiger Files saved as a zip\n",
    "us_states = gpd.read_file(data_path + 'tl_2021_us_state.zip')\n",
    "\n",
    "# Filter the US States file to be just California\n",
    "california = us_states[us_states['NAME']==\"California\"] \n",
    "\n",
    "# Show the dataframe  \n",
    "california.head()"
   ]
  },
  {
   "cell_type": "code",
   "execution_count": null,
   "id": "6cc877bb",
   "metadata": {},
   "outputs": [],
   "source": [
    "# Create a new geopandas dataframe that only includes the CBSAs that are in California using the geopandas mask parameter and passing the previously defined california geopandas dataframe\n",
    "ca_cbsas = gpd.read_file(data_path + 'tl_2021_us_cbsa.zip', mask=california)\n",
    "\n",
    "# Show the first 5 records of the ca_cbsas geopandas dataframe\n",
    "ca_cbsas.head()"
   ]
  },
  {
   "cell_type": "code",
   "execution_count": null,
   "id": "76165a1b",
   "metadata": {},
   "outputs": [],
   "source": [
    "len(ca_cbsas)"
   ]
  },
  {
   "cell_type": "markdown",
   "id": "40979399",
   "metadata": {},
   "source": [
    "### Filtering using the bounding box parameter"
   ]
  },
  {
   "cell_type": "code",
   "execution_count": null,
   "id": "de910bc5",
   "metadata": {},
   "outputs": [],
   "source": [
    "# Defining the bounding box\n",
    "bounding_box = (-123.82239, 42.15933, -123.82246, 38.7)\n",
    "\n",
    "#Reading in the CA_CBSAs and filtering based on the bounding box\n",
    "cbsas_bbox = gpd.read_file(data_path + 'tl_2021_us_cbsa.zip', bbox=bounding_box)\n",
    "\n",
    "# Showing the first 5 rows of the filtered dataframe\n",
    "cbsas_bbox.head()"
   ]
  },
  {
   "cell_type": "markdown",
   "id": "3894d767",
   "metadata": {},
   "source": [
    "## Writing geospatial data with GeoPandas"
   ]
  },
  {
   "cell_type": "code",
   "execution_count": null,
   "id": "1ba57087",
   "metadata": {},
   "outputs": [],
   "source": [
    "# Writing out the data as a shape file\n",
    "ca_cbsas.to_file(out_path+\"ca_cbsas.shp\")"
   ]
  },
  {
   "cell_type": "code",
   "execution_count": null,
   "id": "778051f2",
   "metadata": {},
   "outputs": [],
   "source": [
    "# Writing out the data as a shape file\n",
    "cbsas_bbox.to_file(out_path+\"cbsas_bbox.geojson\", driver=\"GeoJSON\")"
   ]
  },
  {
   "cell_type": "markdown",
   "id": "f94a529f",
   "metadata": {},
   "source": [
    "## Geometric Manipulations"
   ]
  },
  {
   "cell_type": "code",
   "execution_count": null,
   "id": "c751095f",
   "metadata": {},
   "outputs": [],
   "source": [
    "from shapely.geometry import Point, LineString, Polygon\n",
    "\n",
    "s = gpd.GeoSeries(\n",
    "    [\n",
    "        Point(1, 5),\n",
    "        LineString([(2, -1), (3, 0), (5, 0), (4, 2)]),\n",
    "        Polygon([(5, -2), (3, 5), (5, 2)]),\n",
    "    ]\n",
    ")\n",
    "\n",
    "s[1]"
   ]
  },
  {
   "cell_type": "markdown",
   "id": "087e594d",
   "metadata": {},
   "source": [
    "### Performing Buffer"
   ]
  },
  {
   "cell_type": "code",
   "execution_count": null,
   "id": "1f83eb79",
   "metadata": {},
   "outputs": [],
   "source": [
    "s_b = s.buffer(.4)\n",
    "s_b[1]"
   ]
  },
  {
   "cell_type": "markdown",
   "id": "51cb7161",
   "metadata": {},
   "source": [
    "### Performing a dissolve operation"
   ]
  },
  {
   "cell_type": "code",
   "execution_count": null,
   "id": "d04f6e25",
   "metadata": {},
   "outputs": [],
   "source": [
    "us_states = gpd.read_file(data_path + 'tl_2021_us_state.zip')\n",
    "\n",
    "# Filtering out territories \n",
    "us_states = us_states[~us_states['STUSPS'].isin(['MP','VI','GU','AS','PR'])]\n",
    "\n",
    "# Setting the PCS\n",
    "us_states = us_states.to_crs('ESRI:54032')\n",
    "us_states.plot()"
   ]
  },
  {
   "cell_type": "code",
   "execution_count": null,
   "id": "9a16523a",
   "metadata": {},
   "outputs": [],
   "source": [
    "us_states_d = us_states.dissolve()\n",
    "us_states_d.plot()"
   ]
  },
  {
   "cell_type": "markdown",
   "id": "0777ceee",
   "metadata": {},
   "source": [
    "### Simplifying the geometry"
   ]
  },
  {
   "cell_type": "code",
   "execution_count": null,
   "id": "d7881833",
   "metadata": {},
   "outputs": [],
   "source": [
    "LA = us_states[us_states['STUSPS']=='LA']\n",
    "LA.plot()"
   ]
  },
  {
   "cell_type": "code",
   "execution_count": null,
   "id": "c29b0d02",
   "metadata": {},
   "outputs": [],
   "source": [
    "LA_s = LA.simplify(tolerance=10000)\n",
    "LA_s.plot()"
   ]
  },
  {
   "cell_type": "markdown",
   "id": "8ab04681",
   "metadata": {},
   "source": [
    "## Ploting Geospatial Data"
   ]
  },
  {
   "cell_type": "code",
   "execution_count": null,
   "id": "1c893ad6",
   "metadata": {},
   "outputs": [],
   "source": [
    "# Basic map of California CBSAs\n",
    "ca_cbsas.plot()"
   ]
  },
  {
   "cell_type": "code",
   "execution_count": null,
   "id": "36805cb6",
   "metadata": {
    "scrolled": true
   },
   "outputs": [],
   "source": [
    "# Choropleth Map of the world's population \n",
    "\n",
    "# Reading in the natural earth lowres data\n",
    "world = gpd.read_file(gpd.datasets.get_path('naturalearth_lowres'))\n",
    "\n",
    "# Plotting the data colored by the pop_est GeoSeries\n",
    "world.plot(column='pop_est')"
   ]
  },
  {
   "cell_type": "code",
   "execution_count": null,
   "id": "e7005023",
   "metadata": {},
   "outputs": [],
   "source": [
    "world.head()"
   ]
  },
  {
   "cell_type": "code",
   "execution_count": null,
   "id": "e33e6c28",
   "metadata": {},
   "outputs": [],
   "source": [
    "continents = world.dissolve(by=\"continent\")\n",
    "continents.head()"
   ]
  },
  {
   "cell_type": "code",
   "execution_count": null,
   "id": "f39dfb93",
   "metadata": {},
   "outputs": [],
   "source": [
    "continents.plot()"
   ]
  },
  {
   "cell_type": "markdown",
   "id": "045f358b",
   "metadata": {},
   "source": [
    "## Geocoding"
   ]
  },
  {
   "cell_type": "code",
   "execution_count": null,
   "id": "cc25dbfa",
   "metadata": {},
   "outputs": [],
   "source": [
    "import pandas as pd\n",
    "dc_attractions = pd.read_csv(data_path + 'DC_Attractions.csv')\n",
    "dc_attractions.head()"
   ]
  },
  {
   "cell_type": "code",
   "execution_count": null,
   "id": "e1dc2cff",
   "metadata": {},
   "outputs": [],
   "source": [
    "from geopandas.tools import geocode\n",
    "\n",
    "# Geocode addresses using Nominatim. Remember to provide a custom \"application name\" in the user_agent parameter!\n",
    "dc_attractions_gpd = geocode(dc_attractions['Address'], provider='openmapquest', timeout=4, api_key=\"API KEY\")\n",
    "dc_attractions_gpd.head()"
   ]
  },
  {
   "cell_type": "code",
   "execution_count": null,
   "id": "1df7e530",
   "metadata": {},
   "outputs": [],
   "source": [
    "dc_attractions_gpd.plot()"
   ]
  },
  {
   "cell_type": "code",
   "execution_count": null,
   "id": "18d05b70-5c18-4515-89f2-28b03b71b69e",
   "metadata": {},
   "outputs": [],
   "source": []
  }
 ],
 "metadata": {
  "kernelspec": {
   "display_name": "Python 3 (ipykernel)",
   "language": "python",
   "name": "python3"
  },
  "language_info": {
   "codemirror_mode": {
    "name": "ipython",
    "version": 3
   },
   "file_extension": ".py",
   "mimetype": "text/x-python",
   "name": "python",
   "nbconvert_exporter": "python",
   "pygments_lexer": "ipython3",
   "version": "3.10.12"
  }
 },
 "nbformat": 4,
 "nbformat_minor": 5
}
