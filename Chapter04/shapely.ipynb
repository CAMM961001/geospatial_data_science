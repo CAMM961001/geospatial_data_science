{
 "cells": [
  {
   "cell_type": "markdown",
   "id": "1d47d69d-09e3-4d45-b466-74d145a2504e",
   "metadata": {},
   "source": [
    "# Shapely\n",
    "\n",
    "_Shapely_ es una librería utilizada para trabajar con geometrías tipo vector, que incluye funciones que permiten crear geometrías. En su núcleo, es una interfaz para lo que se conoce como _Geometry Engine Open Source Sorftware_ (**GEOS**).\n",
    "\n",
    "Sin embargo, únicamente tiene la capacidad de trabajar con geometrías individuales, por lo que no posee funciones para lectura o escritura de datos geoespaciales. Su principal uso es para **crear geometrías**\n",
    "\n",
    "Carga de librerías"
   ]
  },
  {
   "cell_type": "code",
   "execution_count": 1,
   "id": "87f8d074",
   "metadata": {},
   "outputs": [],
   "source": [
    "import shapely.geometry\n",
    "import shapely.wkt\n",
    "from shapely.geometry import Polygon"
   ]
  },
  {
   "cell_type": "markdown",
   "id": "7dba92cb-7422-455d-9a2c-7328e0d5bb08",
   "metadata": {},
   "source": [
    "## WKT\n",
    "\n",
    "WKT es un marco de texto utilizado para representar geometrías tipo vector como cadenas de caractéres."
   ]
  },
  {
   "cell_type": "code",
   "execution_count": 2,
   "id": "aabe1a1f",
   "metadata": {},
   "outputs": [
    {
     "data": {
      "image/svg+xml": [
       "<svg xmlns=\"http://www.w3.org/2000/svg\" xmlns:xlink=\"http://www.w3.org/1999/xlink\" width=\"100.0\" height=\"100.0\" viewBox=\"-0.36 -2.36 9.719999999999999 2.7199999999999998\" preserveAspectRatio=\"xMinYMin meet\"><g transform=\"matrix(1,0,0,-1,0,-2.0)\"><path fill-rule=\"evenodd\" fill=\"#66cc99\" stroke=\"#555555\" stroke-width=\"0.1944\" opacity=\"0.6\" d=\"M 0.0,0.0 L 0.0,-2.0 L 9.0,-2.0 L 9.0,0.0 L 0.0,0.0 z\" /></g></svg>"
      ],
      "text/plain": [
       "<POLYGON ((0 0, 0 -2, 9 -2, 9 0, 0 0))>"
      ]
     },
     "execution_count": 2,
     "metadata": {},
     "output_type": "execute_result"
    }
   ],
   "source": [
    "# Crear polígono a partir de wkt\n",
    "s_poly1 = shapely.wkt.loads(\"POLYGON ((0 0, 0 -2, 9 -2, 9 0, 0 0))\")\n",
    "s_poly1"
   ]
  },
  {
   "cell_type": "markdown",
   "id": "c4099935-a320-43ef-81b8-29cbe3385bf1",
   "metadata": {},
   "source": [
    "La primera y última coordenadas necesariamente deben ser las mismas para que se cierre el polígono, de lo contrario, _Shapely_ arrojará un error.\n",
    "\n",
    "Es posible producir el mismo polígono a partir de un GeoJSON"
   ]
  },
  {
   "cell_type": "code",
   "execution_count": 3,
   "id": "5ed2416e",
   "metadata": {},
   "outputs": [
    {
     "data": {
      "image/svg+xml": [
       "<svg xmlns=\"http://www.w3.org/2000/svg\" xmlns:xlink=\"http://www.w3.org/1999/xlink\" width=\"100.0\" height=\"100.0\" viewBox=\"-0.36 -2.36 9.719999999999999 2.7199999999999998\" preserveAspectRatio=\"xMinYMin meet\"><g transform=\"matrix(1,0,0,-1,0,-2.0)\"><path fill-rule=\"evenodd\" fill=\"#66cc99\" stroke=\"#555555\" stroke-width=\"0.1944\" opacity=\"0.6\" d=\"M 0.0,0.0 L 0.0,-2.0 L 9.0,-2.0 L 9.0,0.0 L 0.0,0.0 z\" /></g></svg>"
      ],
      "text/plain": [
       "<POLYGON ((0 0, 0 -2, 9 -2, 9 0, 0 0))>"
      ]
     },
     "execution_count": 3,
     "metadata": {},
     "output_type": "execute_result"
    }
   ],
   "source": [
    "# Crear polígono a partir de GeoJSON\n",
    "geo = {\n",
    "    'type': 'Polygon'\n",
    "    ,'coordinates': [\n",
    "        [[0, 0], [0, -2], [9, -2], [9, 0]]\n",
    "    ]}\n",
    "\n",
    "Polygon(shell=[tuple(coord) for coord in geo['coordinates'][0]])"
   ]
  },
  {
   "cell_type": "markdown",
   "id": "3c1e061d-66ca-42b9-8ee5-8a31279b382f",
   "metadata": {},
   "source": [
    "También se pueden producir multipolígonos, los cuales son útiles para representar entidades como islas:"
   ]
  },
  {
   "cell_type": "code",
   "execution_count": 4,
   "id": "9e1e22e1",
   "metadata": {},
   "outputs": [
    {
     "data": {
      "image/svg+xml": [
       "<svg xmlns=\"http://www.w3.org/2000/svg\" xmlns:xlink=\"http://www.w3.org/1999/xlink\" width=\"100.0\" height=\"100.0\" viewBox=\"8.4 3.4 43.2 43.2\" preserveAspectRatio=\"xMinYMin meet\"><g transform=\"matrix(1,0,0,-1,0,50.0)\"><g><path fill-rule=\"evenodd\" fill=\"#66cc99\" stroke=\"#555555\" stroke-width=\"0.8640000000000001\" opacity=\"0.6\" d=\"M 50.0,40.0 L 20.0,45.0 L 45.0,30.0 L 50.0,40.0 z\" /><path fill-rule=\"evenodd\" fill=\"#66cc99\" stroke=\"#555555\" stroke-width=\"0.8640000000000001\" opacity=\"0.6\" d=\"M 25.0,35.0 L 10.0,30.0 L 10.0,18.0 L 30.0,5.0 L 45.0,20.0 L 25.0,35.0 z M 32.0,20.0 L 26.0,15.0 L 20.0,25.0 L 32.0,20.0 z\" /></g></g></svg>"
      ],
      "text/plain": [
       "<MULTIPOLYGON (((50 40, 20 45, 45 30, 50 40)), ((25 35, 10 30, 10 18, 30 5, ...>"
      ]
     },
     "execution_count": 4,
     "metadata": {},
     "output_type": "execute_result"
    }
   ],
   "source": [
    "# Multi-Polígono\n",
    "s_poly3 = shapely.wkt.loads(\n",
    "    data=\"\"\"\n",
    "    MULTIPOLYGON (\n",
    "    ((50 40, 20 45, 45 30, 50 40))\n",
    "    ,((25 35, 10 30, 10 18, 30 5, 45 20, 25 35), (32 20, 26 15, 20 25, 32 20)))\"\"\"\n",
    ")\n",
    "\n",
    "s_poly3"
   ]
  },
  {
   "cell_type": "markdown",
   "id": "26c32dcc-1167-4e62-aba9-57934a169162",
   "metadata": {},
   "source": [
    "Otra forma de crear geometrías es pasando una lista de coordenadas a alguna función en específico, por ejemplo:"
   ]
  },
  {
   "cell_type": "code",
   "execution_count": 5,
   "id": "438c3a80",
   "metadata": {},
   "outputs": [
    {
     "data": {
      "image/svg+xml": [
       "<svg xmlns=\"http://www.w3.org/2000/svg\" xmlns:xlink=\"http://www.w3.org/1999/xlink\" width=\"100.0\" height=\"100.0\" viewBox=\"-2.4 -0.4 10.8 3.8\" preserveAspectRatio=\"xMinYMin meet\"><g transform=\"matrix(1,0,0,-1,0,3.0)\"><polyline fill=\"none\" stroke=\"#66cc99\" stroke-width=\"0.21600000000000003\" points=\"5.0,0.5 5.0,3.0 -2.0,0.0 8.0,0.0\" opacity=\"0.8\" /></g></svg>"
      ],
      "text/plain": [
       "<LINESTRING (5 0.5, 5 3, -2 0, 8 0)>"
      ]
     },
     "execution_count": 5,
     "metadata": {},
     "output_type": "execute_result"
    }
   ],
   "source": [
    "# Generar geometría de línea a partir de una lista\n",
    "coords = [(5, 0.5), (5, 3), (-2, 0), (8, 0)]\n",
    "line = shapely.geometry.LineString(coordinates=coords)\n",
    "\n",
    "line"
   ]
  },
  {
   "cell_type": "markdown",
   "id": "d154cb3b-9768-414e-a7dd-8416d199a229",
   "metadata": {},
   "source": [
    "Para mayor detalle consultar la [documentación](https://shapely.readthedocs.io/en/stable/manual.html)\n",
    "\n",
    "---"
   ]
  }
 ],
 "metadata": {
  "kernelspec": {
   "display_name": "Python 3 (ipykernel)",
   "language": "python",
   "name": "python3"
  },
  "language_info": {
   "codemirror_mode": {
    "name": "ipython",
    "version": 3
   },
   "file_extension": ".py",
   "mimetype": "text/x-python",
   "name": "python",
   "nbconvert_exporter": "python",
   "pygments_lexer": "ipython3",
   "version": "3.10.12"
  }
 },
 "nbformat": 4,
 "nbformat_minor": 5
}
